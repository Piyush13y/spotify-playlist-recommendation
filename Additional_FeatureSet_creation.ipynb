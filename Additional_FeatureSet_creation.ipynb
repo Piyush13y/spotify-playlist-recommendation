{
  "nbformat": 4,
  "nbformat_minor": 0,
  "metadata": {
    "colab": {
      "name": "Additional_FeatureSet_creation.ipynb",
      "provenance": [],
      "mount_file_id": "1Ffni2MSTlO8THbiybQUQN0d5Pi5NYVNs",
      "authorship_tag": "ABX9TyPqgBdHCcfvUtTfHy5lHybo",
      "include_colab_link": true
    },
    "kernelspec": {
      "display_name": "Python 3",
      "name": "python3"
    },
    "language_info": {
      "name": "python"
    }
  },
  "cells": [
    {
      "cell_type": "markdown",
      "metadata": {
        "id": "view-in-github",
        "colab_type": "text"
      },
      "source": [
        "<a href=\"https://colab.research.google.com/github/sag005/spotify-playlist-recommendation/blob/main/Additional_FeatureSet_creation.ipynb\" target=\"_parent\"><img src=\"https://colab.research.google.com/assets/colab-badge.svg\" alt=\"Open In Colab\"/></a>"
      ]
    },
    {
      "cell_type": "code",
      "metadata": {
        "id": "pkmm3hYtA7Oh"
      },
      "source": [
        "import json\n",
        "import pandas as pd\n",
        "from collections import Counter, defaultdict\n",
        "import numpy as np\n",
        "import pickle as pkl\n",
        "from nltk.corpus import stopwords\n",
        "from scipy.spatial import distance"
      ],
      "execution_count": 18,
      "outputs": []
    },
    {
      "cell_type": "code",
      "metadata": {
        "id": "F130Ryv0tJx_"
      },
      "source": [
        "playlist_data = pd.read_pickle('playlist_data.pkl')"
      ],
      "execution_count": 19,
      "outputs": []
    },
    {
      "cell_type": "code",
      "metadata": {
        "id": "8GlmpYIrvGLr"
      },
      "source": [
        "all_tracks = []\n",
        "for sub in playlist_data['tracks']:\n",
        "  all_tracks.extend(sub)"
      ],
      "execution_count": 20,
      "outputs": []
    },
    {
      "cell_type": "code",
      "metadata": {
        "id": "Z8JlTLWZvHAX"
      },
      "source": [
        "track_frequency = dict(Counter(all_tracks))"
      ],
      "execution_count": 21,
      "outputs": []
    },
    {
      "cell_type": "code",
      "metadata": {
        "id": "gmJdxPNTw4Iv"
      },
      "source": [
        "unique_tracks_len = len(set(all_tracks))"
      ],
      "execution_count": 22,
      "outputs": []
    },
    {
      "cell_type": "code",
      "metadata": {
        "colab": {
          "base_uri": "https://localhost:8080/"
        },
        "id": "oW4htxBDxIEv",
        "outputId": "915d2521-69f7-4829-8c12-e552981228ed"
      },
      "source": [
        "unique_tracks_len"
      ],
      "execution_count": 23,
      "outputs": [
        {
          "output_type": "execute_result",
          "data": {
            "text/plain": [
              "40399"
            ]
          },
          "metadata": {},
          "execution_count": 23
        }
      ]
    },
    {
      "cell_type": "code",
      "metadata": {
        "id": "T3PWPB0YxXsT"
      },
      "source": [
        "# with open('track_frequency.pkl', 'wb') as handle:\n",
        "#     pkl.dump(track_frequency, handle, protocol=pkl.HIGHEST_PROTOCOL)\n"
      ],
      "execution_count": null,
      "outputs": []
    },
    {
      "cell_type": "markdown",
      "metadata": {
        "id": "7c1Iii4zypRA"
      },
      "source": [
        "Suggest most popular songs"
      ]
    },
    {
      "cell_type": "code",
      "metadata": {
        "id": "FHeCOXDiyeXs"
      },
      "source": [
        "tracks_data = pd.read_pickle('track_data.pkl')"
      ],
      "execution_count": 24,
      "outputs": []
    },
    {
      "cell_type": "code",
      "metadata": {
        "colab": {
          "base_uri": "https://localhost:8080/",
          "height": 654
        },
        "id": "oX9g6Te8y1F_",
        "outputId": "e4f5c937-d682-40c9-c6e7-f3d3dd32e155"
      },
      "source": [
        "tracks_data.set_index('track_uri')"
      ],
      "execution_count": 25,
      "outputs": [
        {
          "output_type": "execute_result",
          "data": {
            "text/html": [
              "<div>\n",
              "<style scoped>\n",
              "    .dataframe tbody tr th:only-of-type {\n",
              "        vertical-align: middle;\n",
              "    }\n",
              "\n",
              "    .dataframe tbody tr th {\n",
              "        vertical-align: top;\n",
              "    }\n",
              "\n",
              "    .dataframe thead th {\n",
              "        text-align: right;\n",
              "    }\n",
              "</style>\n",
              "<table border=\"1\" class=\"dataframe\">\n",
              "  <thead>\n",
              "    <tr style=\"text-align: right;\">\n",
              "      <th></th>\n",
              "      <th>index</th>\n",
              "      <th>album_name</th>\n",
              "      <th>album_uri</th>\n",
              "      <th>artist_name</th>\n",
              "      <th>artist_uri</th>\n",
              "      <th>duration_ms</th>\n",
              "      <th>track_name</th>\n",
              "      <th>pos</th>\n",
              "    </tr>\n",
              "    <tr>\n",
              "      <th>track_uri</th>\n",
              "      <th></th>\n",
              "      <th></th>\n",
              "      <th></th>\n",
              "      <th></th>\n",
              "      <th></th>\n",
              "      <th></th>\n",
              "      <th></th>\n",
              "      <th></th>\n",
              "    </tr>\n",
              "  </thead>\n",
              "  <tbody>\n",
              "    <tr>\n",
              "      <th>spotify:track:35AmCchFjTJoVwymcRmiLC</th>\n",
              "      <td>0</td>\n",
              "      <td>Voyager</td>\n",
              "      <td>spotify:album:4AvWThXzgilnmHTe09ImV5</td>\n",
              "      <td>G Jones</td>\n",
              "      <td>spotify:artist:0gXx2aQ2mfovDfqCw10MQC</td>\n",
              "      <td>193500</td>\n",
              "      <td>Thunderdome</td>\n",
              "      <td>0</td>\n",
              "    </tr>\n",
              "    <tr>\n",
              "      <th>spotify:track:2QePQ29ix8gC0CbRHcGoBz</th>\n",
              "      <td>1</td>\n",
              "      <td>Eyes</td>\n",
              "      <td>spotify:album:7ESu1F4Eb7XchnaoBklBTM</td>\n",
              "      <td>G Jones</td>\n",
              "      <td>spotify:artist:0gXx2aQ2mfovDfqCw10MQC</td>\n",
              "      <td>145454</td>\n",
              "      <td>Zig Zak</td>\n",
              "      <td>1</td>\n",
              "    </tr>\n",
              "    <tr>\n",
              "      <th>spotify:track:7zbq8RT5Kd3ExOGVTiUQbR</th>\n",
              "      <td>2</td>\n",
              "      <td>Filling Up The City Skies (disc 2)</td>\n",
              "      <td>spotify:album:0IiPSY2KKMKpBApop7KuYH</td>\n",
              "      <td>Pretty Lights</td>\n",
              "      <td>spotify:artist:4iVhFmG8YCCEHANGeUUS9q</td>\n",
              "      <td>421331</td>\n",
              "      <td>Hot Like Sauce</td>\n",
              "      <td>2</td>\n",
              "    </tr>\n",
              "    <tr>\n",
              "      <th>spotify:track:3d5LFzH1i152LuEUxNZJAD</th>\n",
              "      <td>3</td>\n",
              "      <td>A Color Map of the Sun (Deluxe Version)</td>\n",
              "      <td>spotify:album:4LcmZzFiH4gmNk8meb66iO</td>\n",
              "      <td>Pretty Lights</td>\n",
              "      <td>spotify:artist:4iVhFmG8YCCEHANGeUUS9q</td>\n",
              "      <td>419306</td>\n",
              "      <td>One Day They'll Know</td>\n",
              "      <td>3</td>\n",
              "    </tr>\n",
              "    <tr>\n",
              "      <th>spotify:track:1El3MOnnIhaT6MsRqNu13q</th>\n",
              "      <td>4</td>\n",
              "      <td>A Color Map of the Sun (Remixes)</td>\n",
              "      <td>spotify:album:0pbCJhGv304qQ16xWvqyBH</td>\n",
              "      <td>Pretty Lights</td>\n",
              "      <td>spotify:artist:4iVhFmG8YCCEHANGeUUS9q</td>\n",
              "      <td>298666</td>\n",
              "      <td>Done Wrong (Opiuo Remix)</td>\n",
              "      <td>4</td>\n",
              "    </tr>\n",
              "    <tr>\n",
              "      <th>...</th>\n",
              "      <td>...</td>\n",
              "      <td>...</td>\n",
              "      <td>...</td>\n",
              "      <td>...</td>\n",
              "      <td>...</td>\n",
              "      <td>...</td>\n",
              "      <td>...</td>\n",
              "      <td>...</td>\n",
              "    </tr>\n",
              "    <tr>\n",
              "      <th>spotify:track:5Y87Aek2DGI5s4WNAh8zKR</th>\n",
              "      <td>24</td>\n",
              "      <td>T R A P S O U L</td>\n",
              "      <td>spotify:album:6eZdwrhB97A3EYx9QppGfl</td>\n",
              "      <td>Bryson Tiller</td>\n",
              "      <td>spotify:artist:2EMAnMvWE2eb56ToJVfCWs</td>\n",
              "      <td>196106</td>\n",
              "      <td>502 Come Up</td>\n",
              "      <td>24</td>\n",
              "    </tr>\n",
              "    <tr>\n",
              "      <th>spotify:track:2ydJOlGtU6ABq7tJNDhh8V</th>\n",
              "      <td>35</td>\n",
              "      <td>How You Gonna Act Like That</td>\n",
              "      <td>spotify:album:24hgjwNU7eznKOX6sfbNPz</td>\n",
              "      <td>Z.Woods</td>\n",
              "      <td>spotify:artist:4wf83MgUJNKr3Th3MYBEOz</td>\n",
              "      <td>229380</td>\n",
              "      <td>How You Gonna Act Like That</td>\n",
              "      <td>35</td>\n",
              "    </tr>\n",
              "    <tr>\n",
              "      <th>spotify:track:4izP2KMwrhAdZEtIyp8Z8w</th>\n",
              "      <td>38</td>\n",
              "      <td>Sunday</td>\n",
              "      <td>spotify:album:2JtS8H9AIn9oSE9Hja7GIs</td>\n",
              "      <td>Dawin</td>\n",
              "      <td>spotify:artist:46GXASE9LHzyssNqKOInUu</td>\n",
              "      <td>209093</td>\n",
              "      <td>Jumpshot</td>\n",
              "      <td>38</td>\n",
              "    </tr>\n",
              "    <tr>\n",
              "      <th>spotify:track:2hcO4itSiCuWdsNWdVBKD9</th>\n",
              "      <td>49</td>\n",
              "      <td>Hey Arnold (Remix) [feat. Lil Yachty]</td>\n",
              "      <td>spotify:album:2QTXG5x2poBQAjeAYrra1S</td>\n",
              "      <td>Rico Nasty</td>\n",
              "      <td>spotify:artist:2OaHYHb2XcFPvqL3VsyPzU</td>\n",
              "      <td>201285</td>\n",
              "      <td>Hey Arnold (Remix)</td>\n",
              "      <td>49</td>\n",
              "    </tr>\n",
              "    <tr>\n",
              "      <th>spotify:track:7jgBTiVeF54ccOHGTBkibB</th>\n",
              "      <td>50</td>\n",
              "      <td>The Return of East Atlanta Santa</td>\n",
              "      <td>spotify:album:4MoVPs5mVFmZ4N6RmNTFWB</td>\n",
              "      <td>Gucci Mane</td>\n",
              "      <td>spotify:artist:13y7CgLHjMVRMDqxdx0Xdo</td>\n",
              "      <td>191160</td>\n",
              "      <td>Stutter</td>\n",
              "      <td>50</td>\n",
              "    </tr>\n",
              "  </tbody>\n",
              "</table>\n",
              "<p>40399 rows × 8 columns</p>\n",
              "</div>"
            ],
            "text/plain": [
              "                                      index  ... pos\n",
              "track_uri                                    ...    \n",
              "spotify:track:35AmCchFjTJoVwymcRmiLC      0  ...   0\n",
              "spotify:track:2QePQ29ix8gC0CbRHcGoBz      1  ...   1\n",
              "spotify:track:7zbq8RT5Kd3ExOGVTiUQbR      2  ...   2\n",
              "spotify:track:3d5LFzH1i152LuEUxNZJAD      3  ...   3\n",
              "spotify:track:1El3MOnnIhaT6MsRqNu13q      4  ...   4\n",
              "...                                     ...  ...  ..\n",
              "spotify:track:5Y87Aek2DGI5s4WNAh8zKR     24  ...  24\n",
              "spotify:track:2ydJOlGtU6ABq7tJNDhh8V     35  ...  35\n",
              "spotify:track:4izP2KMwrhAdZEtIyp8Z8w     38  ...  38\n",
              "spotify:track:2hcO4itSiCuWdsNWdVBKD9     49  ...  49\n",
              "spotify:track:7jgBTiVeF54ccOHGTBkibB     50  ...  50\n",
              "\n",
              "[40399 rows x 8 columns]"
            ]
          },
          "metadata": {},
          "execution_count": 25
        }
      ]
    },
    {
      "cell_type": "code",
      "metadata": {
        "id": "PYzfsv9n1iiK"
      },
      "source": [
        "tracks_data.drop_duplicates('track_uri', inplace=True)"
      ],
      "execution_count": 28,
      "outputs": []
    },
    {
      "cell_type": "code",
      "metadata": {
        "id": "A0uJdr6qYmhg"
      },
      "source": [
        "# tracks_data.to_pickle('track_data.pkl')"
      ],
      "execution_count": 31,
      "outputs": []
    },
    {
      "cell_type": "markdown",
      "metadata": {
        "id": "9hb6DL-OHJe_"
      },
      "source": [
        "Return most popular for that artist"
      ]
    },
    {
      "cell_type": "code",
      "metadata": {
        "id": "nlRthzXwHXzC"
      },
      "source": [
        "tracks_artist_df = tracks_data[['artist_name', 'track_uri']]"
      ],
      "execution_count": 33,
      "outputs": []
    },
    {
      "cell_type": "code",
      "metadata": {
        "id": "UEpDoL1RHnv-"
      },
      "source": [
        "artist_tracks_dict = defaultdict(set)\n",
        "for index, row in tracks_artist_df.iterrows():\n",
        "    artist_tracks_dict[row['artist_name']].add(row['track_uri'])"
      ],
      "execution_count": 34,
      "outputs": []
    },
    {
      "cell_type": "code",
      "metadata": {
        "id": "fIXHGhQ1HyBx"
      },
      "source": [
        "# with open('artist_track_mapping.pkl', 'wb') as handle:\n",
        "#     pkl.dump(artist_tracks_dict, handle, protocol=pkl.HIGHEST_PROTOCOL)\n"
      ],
      "execution_count": null,
      "outputs": []
    },
    {
      "cell_type": "code",
      "metadata": {
        "id": "Bf6I8t-7JNO2"
      },
      "source": [
        "with open('artist_track_mapping.pkl', 'rb') as handle:\n",
        "    artist_tracks_dict = pkl.load(handle)"
      ],
      "execution_count": 35,
      "outputs": []
    },
    {
      "cell_type": "code",
      "metadata": {
        "id": "bnh0DyjzInxR"
      },
      "source": [
        "artist_tracks_count_dict = defaultdict()\n",
        "for artist in artist_tracks_dict:\n",
        "  artist_tracks_count_dict[artist] = len(artist_tracks_dict[artist]) "
      ],
      "execution_count": 37,
      "outputs": []
    },
    {
      "cell_type": "code",
      "metadata": {
        "id": "03pyBaucLrQk"
      },
      "source": [
        "# with open('artist_track_count.pkl', 'wb') as handle:\n",
        "#     pkl.dump(artist_tracks_count_dict, handle, protocol=pkl.HIGHEST_PROTOCOL)"
      ],
      "execution_count": null,
      "outputs": []
    },
    {
      "cell_type": "markdown",
      "metadata": {
        "id": "SOvzZM1uQiRH"
      },
      "source": [
        "Word Embeddings - Album titles"
      ]
    },
    {
      "cell_type": "code",
      "metadata": {
        "id": "zWmAvcUdQo4L"
      },
      "source": [
        "import zipfile\n",
        "with zipfile.ZipFile('/content/drive/MyDrive/glove_emb.pb (1).zip', 'r') as zip_ref:\n",
        "    zip_ref.extractall('/content')"
      ],
      "execution_count": 40,
      "outputs": []
    },
    {
      "cell_type": "code",
      "metadata": {
        "id": "8QRbA2O3dXfW"
      },
      "source": [
        "words_embeddings_dict = defaultdict()\n",
        "with open('glove_emb.pb', 'rb') as handle:\n",
        "    words_embeddings_dict = pkl.load(handle)"
      ],
      "execution_count": 42,
      "outputs": []
    },
    {
      "cell_type": "code",
      "metadata": {
        "id": "ywT0oSIgD8rZ"
      },
      "source": [
        "with open('word_embeddings.pkl', 'wb') as handle:\n",
        "    pkl.dump(words_embeddings_dict, handle, protocol=pkl.HIGHEST_PROTOCOL)\n"
      ],
      "execution_count": 92,
      "outputs": []
    }
  ]
}