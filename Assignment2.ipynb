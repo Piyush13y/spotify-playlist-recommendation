{
  "nbformat": 4,
  "nbformat_minor": 0,
  "metadata": {
    "colab": {
      "name": "Assignment2.ipynb",
      "provenance": [],
      "authorship_tag": "ABX9TyNo7n4MqhvYbsNtKNQCTS7d",
      "include_colab_link": true
    },
    "kernelspec": {
      "display_name": "Python 3",
      "name": "python3"
    },
    "language_info": {
      "name": "python"
    }
  },
  "cells": [
    {
      "cell_type": "markdown",
      "metadata": {
        "id": "view-in-github",
        "colab_type": "text"
      },
      "source": [
        "<a href=\"https://colab.research.google.com/github/sag005/spotify-playlist-recommendation/blob/main/Assignment2.ipynb\" target=\"_parent\"><img src=\"https://colab.research.google.com/assets/colab-badge.svg\" alt=\"Open In Colab\"/></a>"
      ]
    },
    {
      "cell_type": "code",
      "metadata": {
        "id": "pkmm3hYtA7Oh"
      },
      "source": [
        "import json"
      ],
      "execution_count": 1,
      "outputs": []
    },
    {
      "cell_type": "code",
      "metadata": {
        "id": "YKlPfr2IFkXs"
      },
      "source": [
        "import pandas as pd"
      ],
      "execution_count": 2,
      "outputs": []
    },
    {
      "cell_type": "code",
      "metadata": {
        "id": "pEqK5C_vFmNn"
      },
      "source": [
        "def loadTrackData(data):\n",
        "  under_60_tracks_playlists = [playlist for playlist in data['playlists'] if 10 < playlist['num_tracks'] < 60]\n",
        "  df = []\n",
        "  for playlist in under_60_tracks_playlists:\n",
        "    p_df = pd.DataFrame(playlist['tracks'], columns=['album_name','album_uri', 'artist_name', 'artist_uri', 'duration_ms', 'track_name', 'pos', 'track_uri'])\n",
        "    df.append(p_df)\n",
        "  return df"
      ],
      "execution_count": 3,
      "outputs": []
    },
    {
      "cell_type": "code",
      "metadata": {
        "id": "4E3fo909F9oD"
      },
      "source": [
        "all_tracks = []\n",
        "for fileName in ['mpd.slice.122000-122999.json', 'mpd.slice.308000-308999.json', 'mpd.slice.582000-582999.json', 'mpd.slice.858000-858999.json', 'mpd.slice.995000-995999.json']:\n",
        "  f = open(fileName)\n",
        "  data = json.load(f)\n",
        "  playlist_df = loadTrackData(data)\n",
        "  all_tracks.extend(playlist_df)"
      ],
      "execution_count": 4,
      "outputs": []
    },
    {
      "cell_type": "code",
      "metadata": {
        "id": "-p4iLTGZHIBM"
      },
      "source": [
        "tracks_df = pd.DataFrame(columns=['album_name','album_uri', 'artist_name', 'artist_uri', 'duration_ms', 'track_name', 'pos', 'track_uri'])"
      ],
      "execution_count": 5,
      "outputs": []
    },
    {
      "cell_type": "code",
      "metadata": {
        "id": "B3FJY0GKp0ha"
      },
      "source": [
        "tracks_df = pd.concat(all_tracks)"
      ],
      "execution_count": 6,
      "outputs": []
    },
    {
      "cell_type": "code",
      "metadata": {
        "colab": {
          "base_uri": "https://localhost:8080/",
          "height": 569
        },
        "id": "wnIWbRrOyClS",
        "outputId": "4cfed3a7-74fd-4afb-ef60-ba508cf6b285"
      },
      "source": [
        "tracks_df.drop_duplicates(subset='track_uri')\n",
        "tracks_df.set_index(['track_uri'])"
      ],
      "execution_count": 7,
      "outputs": [
        {
          "output_type": "execute_result",
          "data": {
            "text/html": [
              "<div>\n",
              "<style scoped>\n",
              "    .dataframe tbody tr th:only-of-type {\n",
              "        vertical-align: middle;\n",
              "    }\n",
              "\n",
              "    .dataframe tbody tr th {\n",
              "        vertical-align: top;\n",
              "    }\n",
              "\n",
              "    .dataframe thead th {\n",
              "        text-align: right;\n",
              "    }\n",
              "</style>\n",
              "<table border=\"1\" class=\"dataframe\">\n",
              "  <thead>\n",
              "    <tr style=\"text-align: right;\">\n",
              "      <th></th>\n",
              "      <th>album_name</th>\n",
              "      <th>album_uri</th>\n",
              "      <th>artist_name</th>\n",
              "      <th>artist_uri</th>\n",
              "      <th>duration_ms</th>\n",
              "      <th>track_name</th>\n",
              "      <th>pos</th>\n",
              "    </tr>\n",
              "    <tr>\n",
              "      <th>track_uri</th>\n",
              "      <th></th>\n",
              "      <th></th>\n",
              "      <th></th>\n",
              "      <th></th>\n",
              "      <th></th>\n",
              "      <th></th>\n",
              "      <th></th>\n",
              "    </tr>\n",
              "  </thead>\n",
              "  <tbody>\n",
              "    <tr>\n",
              "      <th>spotify:track:35AmCchFjTJoVwymcRmiLC</th>\n",
              "      <td>Voyager</td>\n",
              "      <td>spotify:album:4AvWThXzgilnmHTe09ImV5</td>\n",
              "      <td>G Jones</td>\n",
              "      <td>spotify:artist:0gXx2aQ2mfovDfqCw10MQC</td>\n",
              "      <td>193500</td>\n",
              "      <td>Thunderdome</td>\n",
              "      <td>0</td>\n",
              "    </tr>\n",
              "    <tr>\n",
              "      <th>spotify:track:2QePQ29ix8gC0CbRHcGoBz</th>\n",
              "      <td>Eyes</td>\n",
              "      <td>spotify:album:7ESu1F4Eb7XchnaoBklBTM</td>\n",
              "      <td>G Jones</td>\n",
              "      <td>spotify:artist:0gXx2aQ2mfovDfqCw10MQC</td>\n",
              "      <td>145454</td>\n",
              "      <td>Zig Zak</td>\n",
              "      <td>1</td>\n",
              "    </tr>\n",
              "    <tr>\n",
              "      <th>spotify:track:7zbq8RT5Kd3ExOGVTiUQbR</th>\n",
              "      <td>Filling Up The City Skies (disc 2)</td>\n",
              "      <td>spotify:album:0IiPSY2KKMKpBApop7KuYH</td>\n",
              "      <td>Pretty Lights</td>\n",
              "      <td>spotify:artist:4iVhFmG8YCCEHANGeUUS9q</td>\n",
              "      <td>421331</td>\n",
              "      <td>Hot Like Sauce</td>\n",
              "      <td>2</td>\n",
              "    </tr>\n",
              "    <tr>\n",
              "      <th>spotify:track:3d5LFzH1i152LuEUxNZJAD</th>\n",
              "      <td>A Color Map of the Sun (Deluxe Version)</td>\n",
              "      <td>spotify:album:4LcmZzFiH4gmNk8meb66iO</td>\n",
              "      <td>Pretty Lights</td>\n",
              "      <td>spotify:artist:4iVhFmG8YCCEHANGeUUS9q</td>\n",
              "      <td>419306</td>\n",
              "      <td>One Day They'll Know</td>\n",
              "      <td>3</td>\n",
              "    </tr>\n",
              "    <tr>\n",
              "      <th>spotify:track:1El3MOnnIhaT6MsRqNu13q</th>\n",
              "      <td>A Color Map of the Sun (Remixes)</td>\n",
              "      <td>spotify:album:0pbCJhGv304qQ16xWvqyBH</td>\n",
              "      <td>Pretty Lights</td>\n",
              "      <td>spotify:artist:4iVhFmG8YCCEHANGeUUS9q</td>\n",
              "      <td>298666</td>\n",
              "      <td>Done Wrong (Opiuo Remix)</td>\n",
              "      <td>4</td>\n",
              "    </tr>\n",
              "    <tr>\n",
              "      <th>...</th>\n",
              "      <td>...</td>\n",
              "      <td>...</td>\n",
              "      <td>...</td>\n",
              "      <td>...</td>\n",
              "      <td>...</td>\n",
              "      <td>...</td>\n",
              "      <td>...</td>\n",
              "    </tr>\n",
              "    <tr>\n",
              "      <th>spotify:track:7jgBTiVeF54ccOHGTBkibB</th>\n",
              "      <td>The Return of East Atlanta Santa</td>\n",
              "      <td>spotify:album:4MoVPs5mVFmZ4N6RmNTFWB</td>\n",
              "      <td>Gucci Mane</td>\n",
              "      <td>spotify:artist:13y7CgLHjMVRMDqxdx0Xdo</td>\n",
              "      <td>191160</td>\n",
              "      <td>Stutter</td>\n",
              "      <td>50</td>\n",
              "    </tr>\n",
              "    <tr>\n",
              "      <th>spotify:track:3muBQDekYAg7jm6hDu6R0Z</th>\n",
              "      <td>My Moment</td>\n",
              "      <td>spotify:album:6074OsmUN1PdFgy0zTP4Fn</td>\n",
              "      <td>Tee Grizzley</td>\n",
              "      <td>spotify:artist:6AUl0ykLLpvTktob97x9hO</td>\n",
              "      <td>254693</td>\n",
              "      <td>First Day Out</td>\n",
              "      <td>51</td>\n",
              "    </tr>\n",
              "    <tr>\n",
              "      <th>spotify:track:1PSBzsahR2AKwLJgx8ehBj</th>\n",
              "      <td>bloom</td>\n",
              "      <td>spotify:album:3yWRq9Dd2UO5xyqxTjLDmp</td>\n",
              "      <td>Machine Gun Kelly</td>\n",
              "      <td>spotify:artist:6TIYQ3jFPwQSRmorSezPxX</td>\n",
              "      <td>239293</td>\n",
              "      <td>Bad Things (with Camila Cabello)</td>\n",
              "      <td>52</td>\n",
              "    </tr>\n",
              "    <tr>\n",
              "      <th>spotify:track:5jrcnHY27FfJpcWdCPdG61</th>\n",
              "      <td>Good Vibes</td>\n",
              "      <td>spotify:album:6dRVF4CY3I87wwxZfdfxtn</td>\n",
              "      <td>Damion</td>\n",
              "      <td>spotify:artist:7fEOJ3pGBWmzaUxm5YJRyZ</td>\n",
              "      <td>219840</td>\n",
              "      <td>In The Nights</td>\n",
              "      <td>53</td>\n",
              "    </tr>\n",
              "    <tr>\n",
              "      <th>spotify:track:4ntsD33Pgsgk8rUyZLLiUV</th>\n",
              "      <td>ALL-AMERIKKKAN BADA$$</td>\n",
              "      <td>spotify:album:6swV0WUnPygRIMgEKn6Ige</td>\n",
              "      <td>Joey Bada$$</td>\n",
              "      <td>spotify:artist:2P5sC9cVZDToPxyomzF1UH</td>\n",
              "      <td>207058</td>\n",
              "      <td>DEVASTATED</td>\n",
              "      <td>54</td>\n",
              "    </tr>\n",
              "  </tbody>\n",
              "</table>\n",
              "<p>85017 rows × 7 columns</p>\n",
              "</div>"
            ],
            "text/plain": [
              "                                                                   album_name  ... pos\n",
              "track_uri                                                                      ...    \n",
              "spotify:track:35AmCchFjTJoVwymcRmiLC                                  Voyager  ...   0\n",
              "spotify:track:2QePQ29ix8gC0CbRHcGoBz                                     Eyes  ...   1\n",
              "spotify:track:7zbq8RT5Kd3ExOGVTiUQbR       Filling Up The City Skies (disc 2)  ...   2\n",
              "spotify:track:3d5LFzH1i152LuEUxNZJAD  A Color Map of the Sun (Deluxe Version)  ...   3\n",
              "spotify:track:1El3MOnnIhaT6MsRqNu13q         A Color Map of the Sun (Remixes)  ...   4\n",
              "...                                                                       ...  ...  ..\n",
              "spotify:track:7jgBTiVeF54ccOHGTBkibB         The Return of East Atlanta Santa  ...  50\n",
              "spotify:track:3muBQDekYAg7jm6hDu6R0Z                                My Moment  ...  51\n",
              "spotify:track:1PSBzsahR2AKwLJgx8ehBj                                    bloom  ...  52\n",
              "spotify:track:5jrcnHY27FfJpcWdCPdG61                               Good Vibes  ...  53\n",
              "spotify:track:4ntsD33Pgsgk8rUyZLLiUV                    ALL-AMERIKKKAN BADA$$  ...  54\n",
              "\n",
              "[85017 rows x 7 columns]"
            ]
          },
          "metadata": {},
          "execution_count": 7
        }
      ]
    },
    {
      "cell_type": "code",
      "metadata": {
        "colab": {
          "base_uri": "https://localhost:8080/"
        },
        "id": "Z7Lz8TSBpGOE",
        "outputId": "2566f4bc-b62d-4b22-9df2-c2438091b2d3"
      },
      "source": [
        "len(tracks_df)"
      ],
      "execution_count": 8,
      "outputs": [
        {
          "output_type": "execute_result",
          "data": {
            "text/plain": [
              "85017"
            ]
          },
          "metadata": {},
          "execution_count": 8
        }
      ]
    },
    {
      "cell_type": "code",
      "metadata": {
        "id": "BUjW4NP81ANH"
      },
      "source": [
        "def loadPlaylistData(data):\n",
        "  under_60_tracks_playlists = [playlist for playlist in data['playlists'] if 10 < playlist['num_tracks'] < 60]\n",
        "  for playlist in under_60_tracks_playlists:\n",
        "    track_uris = []\n",
        "    for track in playlist['tracks']:\n",
        "      track_uris.append(track['track_uri'])\n",
        "    playlist['tracks'] = track_uris\n",
        "  p_df = pd.DataFrame(under_60_tracks_playlists, columns=['name', 'collaborative', 'pid', 'modified_at', 'num_tracks','num_albums', 'num_followers', 'tracks'])\n",
        "  return p_df"
      ],
      "execution_count": 9,
      "outputs": []
    },
    {
      "cell_type": "code",
      "metadata": {
        "id": "H-FWpqEJ1BLW"
      },
      "source": [
        "all_playlists = []\n",
        "for fileName in ['mpd.slice.122000-122999.json', 'mpd.slice.308000-308999.json', 'mpd.slice.582000-582999.json', 'mpd.slice.858000-858999.json', 'mpd.slice.995000-995999.json']:\n",
        "  f = open(fileName)\n",
        "  data = json.load(f)\n",
        "  playlist_df = loadPlaylistData(data)\n",
        "  # print(playlist_df)\n",
        "  all_playlists.append(playlist_df)"
      ],
      "execution_count": 10,
      "outputs": []
    },
    {
      "cell_type": "code",
      "metadata": {
        "id": "EHrFOLIT5RjO"
      },
      "source": [
        "playlist_df = pd.concat(all_playlists)"
      ],
      "execution_count": 11,
      "outputs": []
    },
    {
      "cell_type": "code",
      "metadata": {
        "colab": {
          "base_uri": "https://localhost:8080/"
        },
        "id": "0bJXvXh05YyK",
        "outputId": "78ac31b0-447b-48c7-aecc-9f31bccbb258"
      },
      "source": [
        "playlist_df.drop_duplicates"
      ],
      "execution_count": 12,
      "outputs": [
        {
          "output_type": "execute_result",
          "data": {
            "text/plain": [
              "<bound method DataFrame.drop_duplicates of                 name  ...                                             tracks\n",
              "0        drum & bass  ...  [spotify:track:35AmCchFjTJoVwymcRmiLC, spotify...\n",
              "1          chillllll  ...  [spotify:track:1wZqJM5FGDEl3FjHDxDyQd, spotify...\n",
              "2           November  ...  [spotify:track:6wuOF8G6OpRCTMTdBrpldq, spotify...\n",
              "3        spring 2016  ...  [spotify:track:7MIGNUCE2lKsWXHjUT4EHO, spotify...\n",
              "4              Emily  ...  [spotify:track:7uoulrMQgFZFAIEpRPvewL, spotify...\n",
              "..               ...  ...                                                ...\n",
              "519   Halloween 2015  ...  [spotify:track:69bp2EbF7Q2rqc5N3ylezZ, spotify...\n",
              "520          Happier  ...  [spotify:track:2RttW7RAu5nOAfq6YFvApB, spotify...\n",
              "521  Christmas Party  ...  [spotify:track:1jhKFMm0fzKFOaeRZCpRvu, spotify...\n",
              "522              ek   ...  [spotify:track:4scpF6J5uMBvoh6sFB7EL1, spotify...\n",
              "523     Just listen   ...  [spotify:track:0v9Wz8o0BT8DU38R4ddjeH, spotify...\n",
              "\n",
              "[2656 rows x 8 columns]>"
            ]
          },
          "metadata": {},
          "execution_count": 12
        }
      ]
    },
    {
      "cell_type": "code",
      "metadata": {
        "colab": {
          "base_uri": "https://localhost:8080/",
          "height": 204
        },
        "id": "XsMvf4AO5c6-",
        "outputId": "c1ec54a1-3975-471a-c45e-43f114982344"
      },
      "source": [
        "playlist_df.head(5)"
      ],
      "execution_count": 13,
      "outputs": [
        {
          "output_type": "execute_result",
          "data": {
            "text/html": [
              "<div>\n",
              "<style scoped>\n",
              "    .dataframe tbody tr th:only-of-type {\n",
              "        vertical-align: middle;\n",
              "    }\n",
              "\n",
              "    .dataframe tbody tr th {\n",
              "        vertical-align: top;\n",
              "    }\n",
              "\n",
              "    .dataframe thead th {\n",
              "        text-align: right;\n",
              "    }\n",
              "</style>\n",
              "<table border=\"1\" class=\"dataframe\">\n",
              "  <thead>\n",
              "    <tr style=\"text-align: right;\">\n",
              "      <th></th>\n",
              "      <th>name</th>\n",
              "      <th>collaborative</th>\n",
              "      <th>pid</th>\n",
              "      <th>modified_at</th>\n",
              "      <th>num_tracks</th>\n",
              "      <th>num_albums</th>\n",
              "      <th>num_followers</th>\n",
              "      <th>tracks</th>\n",
              "    </tr>\n",
              "  </thead>\n",
              "  <tbody>\n",
              "    <tr>\n",
              "      <th>0</th>\n",
              "      <td>drum &amp; bass</td>\n",
              "      <td>false</td>\n",
              "      <td>122000</td>\n",
              "      <td>1460332800</td>\n",
              "      <td>12</td>\n",
              "      <td>11</td>\n",
              "      <td>1</td>\n",
              "      <td>[spotify:track:35AmCchFjTJoVwymcRmiLC, spotify...</td>\n",
              "    </tr>\n",
              "    <tr>\n",
              "      <th>1</th>\n",
              "      <td>chillllll</td>\n",
              "      <td>false</td>\n",
              "      <td>122001</td>\n",
              "      <td>1466899200</td>\n",
              "      <td>29</td>\n",
              "      <td>28</td>\n",
              "      <td>1</td>\n",
              "      <td>[spotify:track:1wZqJM5FGDEl3FjHDxDyQd, spotify...</td>\n",
              "    </tr>\n",
              "    <tr>\n",
              "      <th>2</th>\n",
              "      <td>November</td>\n",
              "      <td>false</td>\n",
              "      <td>122004</td>\n",
              "      <td>1416787200</td>\n",
              "      <td>40</td>\n",
              "      <td>30</td>\n",
              "      <td>1</td>\n",
              "      <td>[spotify:track:6wuOF8G6OpRCTMTdBrpldq, spotify...</td>\n",
              "    </tr>\n",
              "    <tr>\n",
              "      <th>3</th>\n",
              "      <td>spring 2016</td>\n",
              "      <td>false</td>\n",
              "      <td>122007</td>\n",
              "      <td>1465430400</td>\n",
              "      <td>53</td>\n",
              "      <td>39</td>\n",
              "      <td>1</td>\n",
              "      <td>[spotify:track:7MIGNUCE2lKsWXHjUT4EHO, spotify...</td>\n",
              "    </tr>\n",
              "    <tr>\n",
              "      <th>4</th>\n",
              "      <td>Emily</td>\n",
              "      <td>false</td>\n",
              "      <td>122008</td>\n",
              "      <td>1422230400</td>\n",
              "      <td>16</td>\n",
              "      <td>16</td>\n",
              "      <td>1</td>\n",
              "      <td>[spotify:track:7uoulrMQgFZFAIEpRPvewL, spotify...</td>\n",
              "    </tr>\n",
              "  </tbody>\n",
              "</table>\n",
              "</div>"
            ],
            "text/plain": [
              "          name  ...                                             tracks\n",
              "0  drum & bass  ...  [spotify:track:35AmCchFjTJoVwymcRmiLC, spotify...\n",
              "1    chillllll  ...  [spotify:track:1wZqJM5FGDEl3FjHDxDyQd, spotify...\n",
              "2     November  ...  [spotify:track:6wuOF8G6OpRCTMTdBrpldq, spotify...\n",
              "3  spring 2016  ...  [spotify:track:7MIGNUCE2lKsWXHjUT4EHO, spotify...\n",
              "4        Emily  ...  [spotify:track:7uoulrMQgFZFAIEpRPvewL, spotify...\n",
              "\n",
              "[5 rows x 8 columns]"
            ]
          },
          "metadata": {},
          "execution_count": 13
        }
      ]
    },
    {
      "cell_type": "code",
      "metadata": {
        "colab": {
          "base_uri": "https://localhost:8080/"
        },
        "id": "hSZHJx-75gVy",
        "outputId": "4779a30d-ea85-4354-8fcc-5ca7041db518"
      },
      "source": [
        "len(playlist_df)"
      ],
      "execution_count": 14,
      "outputs": [
        {
          "output_type": "execute_result",
          "data": {
            "text/plain": [
              "2656"
            ]
          },
          "metadata": {},
          "execution_count": 14
        }
      ]
    },
    {
      "cell_type": "code",
      "metadata": {
        "id": "KRtZRGBg8zjq"
      },
      "source": [
        "tracks_df.to_csv('track_data.csv', sep='\\t')\n",
        "playlist_df.to_csv('playlist_data.csv', sep='\\t')"
      ],
      "execution_count": 15,
      "outputs": []
    }
  ]
}