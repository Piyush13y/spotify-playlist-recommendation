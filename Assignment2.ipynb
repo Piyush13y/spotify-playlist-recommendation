{
  "nbformat": 4,
  "nbformat_minor": 0,
  "metadata": {
    "colab": {
      "name": "Assignment2.ipynb",
      "provenance": [],
      "authorship_tag": "ABX9TyPHZEeRHBZpGdmUaEZDv0D+",
      "include_colab_link": true
    },
    "kernelspec": {
      "display_name": "Python 3",
      "name": "python3"
    },
    "language_info": {
      "name": "python"
    }
  },
  "cells": [
    {
      "cell_type": "markdown",
      "metadata": {
        "id": "view-in-github",
        "colab_type": "text"
      },
      "source": [
        "<a href=\"https://colab.research.google.com/github/sag005/spotify-playlist-recommendation/blob/main/Assignment2.ipynb\" target=\"_parent\"><img src=\"https://colab.research.google.com/assets/colab-badge.svg\" alt=\"Open In Colab\"/></a>"
      ]
    },
    {
      "cell_type": "code",
      "metadata": {
        "id": "pkmm3hYtA7Oh"
      },
      "source": [
        "import json"
      ],
      "execution_count": 1,
      "outputs": []
    },
    {
      "cell_type": "code",
      "metadata": {
        "id": "YKlPfr2IFkXs"
      },
      "source": [
        "import pandas as pd"
      ],
      "execution_count": 2,
      "outputs": []
    },
    {
      "cell_type": "code",
      "metadata": {
        "id": "pEqK5C_vFmNn"
      },
      "source": [
        "def loadTrackData(data):\n",
        "  under_60_tracks_playlists = [playlist for playlist in data['playlists'] if 10 < playlist['num_tracks'] < 60]\n",
        "  df = []\n",
        "  for playlist in under_60_tracks_playlists:\n",
        "    p_df = pd.DataFrame(playlist['tracks'], columns=['album_name','album_uri', 'artist_name', 'artist_uri', 'duration_ms', 'track_name', 'pos', 'track_uri'])\n",
        "    df.append(p_df)\n",
        "  return df"
      ],
      "execution_count": 3,
      "outputs": []
    },
    {
      "cell_type": "code",
      "metadata": {
        "id": "4E3fo909F9oD"
      },
      "source": [
        "all_tracks = []\n",
        "for fileName in ['mpd.slice.122000-122999.json', 'mpd.slice.308000-308999.json', 'mpd.slice.582000-582999.json', 'mpd.slice.858000-858999.json', 'mpd.slice.995000-995999.json']:\n",
        "  f = open(fileName)\n",
        "  data = json.load(f)\n",
        "  playlist_df = loadTrackData(data)\n",
        "  all_tracks.extend(playlist_df)"
      ],
      "execution_count": 4,
      "outputs": []
    },
    {
      "cell_type": "code",
      "metadata": {
        "id": "-p4iLTGZHIBM"
      },
      "source": [
        "tracks_df = pd.DataFrame(columns=['album_name','album_uri', 'artist_name', 'artist_uri', 'duration_ms', 'track_name', 'pos', 'track_uri'])"
      ],
      "execution_count": 5,
      "outputs": []
    },
    {
      "cell_type": "code",
      "metadata": {
        "id": "B3FJY0GKp0ha"
      },
      "source": [
        "tracks_df = pd.concat(all_tracks)"
      ],
      "execution_count": 6,
      "outputs": []
    },
    {
      "cell_type": "code",
      "metadata": {
        "colab": {
          "base_uri": "https://localhost:8080/"
        },
        "id": "wnIWbRrOyClS",
        "outputId": "3025ad3b-3500-4e0c-be8d-6b4aa8e7467f"
      },
      "source": [
        "tracks_df.set_index(['track_name'])\n",
        "tracks_df.drop_duplicates"
      ],
      "execution_count": 7,
      "outputs": [
        {
          "output_type": "execute_result",
          "data": {
            "text/plain": [
              "<bound method DataFrame.drop_duplicates of                                  album_name  ...                             track_uri\n",
              "0                                   Voyager  ...  spotify:track:35AmCchFjTJoVwymcRmiLC\n",
              "1                                      Eyes  ...  spotify:track:2QePQ29ix8gC0CbRHcGoBz\n",
              "2        Filling Up The City Skies (disc 2)  ...  spotify:track:7zbq8RT5Kd3ExOGVTiUQbR\n",
              "3   A Color Map of the Sun (Deluxe Version)  ...  spotify:track:3d5LFzH1i152LuEUxNZJAD\n",
              "4          A Color Map of the Sun (Remixes)  ...  spotify:track:1El3MOnnIhaT6MsRqNu13q\n",
              "..                                      ...  ...                                   ...\n",
              "50         The Return of East Atlanta Santa  ...  spotify:track:7jgBTiVeF54ccOHGTBkibB\n",
              "51                                My Moment  ...  spotify:track:3muBQDekYAg7jm6hDu6R0Z\n",
              "52                                    bloom  ...  spotify:track:1PSBzsahR2AKwLJgx8ehBj\n",
              "53                               Good Vibes  ...  spotify:track:5jrcnHY27FfJpcWdCPdG61\n",
              "54                    ALL-AMERIKKKAN BADA$$  ...  spotify:track:4ntsD33Pgsgk8rUyZLLiUV\n",
              "\n",
              "[85017 rows x 8 columns]>"
            ]
          },
          "metadata": {},
          "execution_count": 7
        }
      ]
    },
    {
      "cell_type": "code",
      "metadata": {
        "id": "BUjW4NP81ANH"
      },
      "source": [
        "def loadPlaylistData(data):\n",
        "  under_60_tracks_playlists = [playlist for playlist in data['playlists'] if 10 < playlist['num_tracks'] < 60]\n",
        "  for playlist in under_60_tracks_playlists:\n",
        "    track_names = []\n",
        "    for track in playlist['tracks']:\n",
        "      track_names.append(track['track_name'])\n",
        "    playlist['tracks'] = track_names\n",
        "  p_df = pd.DataFrame(under_60_tracks_playlists, columns=['name', 'collaborative', 'pid', 'modified_at', 'num_tracks','num_albums', 'num_followers', 'tracks'])\n",
        "  return p_df"
      ],
      "execution_count": 8,
      "outputs": []
    },
    {
      "cell_type": "code",
      "metadata": {
        "id": "H-FWpqEJ1BLW"
      },
      "source": [
        "all_playlists = []\n",
        "for fileName in ['mpd.slice.122000-122999.json', 'mpd.slice.308000-308999.json', 'mpd.slice.582000-582999.json', 'mpd.slice.858000-858999.json', 'mpd.slice.995000-995999.json']:\n",
        "  f = open(fileName)\n",
        "  data = json.load(f)\n",
        "  playlist_df = loadPlaylistData(data)\n",
        "  # print(playlist_df)\n",
        "  all_playlists.append(playlist_df)"
      ],
      "execution_count": 9,
      "outputs": []
    },
    {
      "cell_type": "code",
      "metadata": {
        "id": "EHrFOLIT5RjO"
      },
      "source": [
        "playlist_df = pd.concat(all_playlists)"
      ],
      "execution_count": 10,
      "outputs": []
    },
    {
      "cell_type": "code",
      "metadata": {
        "colab": {
          "base_uri": "https://localhost:8080/"
        },
        "id": "0bJXvXh05YyK",
        "outputId": "cc23f7fa-76cc-4af3-bd34-3b1937323620"
      },
      "source": [
        "playlist_df.drop_duplicates"
      ],
      "execution_count": 11,
      "outputs": [
        {
          "output_type": "execute_result",
          "data": {
            "text/plain": [
              "<bound method DataFrame.drop_duplicates of                 name  ...                                             tracks\n",
              "0        drum & bass  ...  [Thunderdome, Zig Zak, Hot Like Sauce, One Day...\n",
              "1          chillllll  ...  [Come and See Me (feat. Drake), Weight in Gold...\n",
              "2           November  ...  [Beautiful Day, Leave and let go (Niva remix),...\n",
              "3        spring 2016  ...  [Zipporah, Shooting Stars, Say It, Lovefool, T...\n",
              "4              Emily  ...  [Sledgehammer, Talking Body, The Heart Wants W...\n",
              "..               ...  ...                                                ...\n",
              "519   Halloween 2015  ...  [Sorry, Flex (Ooh, Ooh, Ooh), My Love (feat. J...\n",
              "520          Happier  ...  [Happier, Gilligan, T-Shirt, HUMBLE., goosebum...\n",
              "521  Christmas Party  ...  [O Holy Night (Glee Cast Version), Have Yourse...\n",
              "522              ek   ...  [No Type, 3 Times In A Row, No Problem (feat. ...\n",
              "523     Just listen   ...  [No Problem (feat. Lil Wayne & 2 Chainz), Real...\n",
              "\n",
              "[2656 rows x 8 columns]>"
            ]
          },
          "metadata": {},
          "execution_count": 11
        }
      ]
    },
    {
      "cell_type": "code",
      "metadata": {
        "colab": {
          "base_uri": "https://localhost:8080/",
          "height": 204
        },
        "id": "XsMvf4AO5c6-",
        "outputId": "46c4c529-54ad-43aa-be1f-99be88563603"
      },
      "source": [
        "playlist_df.head(5)"
      ],
      "execution_count": 12,
      "outputs": [
        {
          "output_type": "execute_result",
          "data": {
            "text/html": [
              "<div>\n",
              "<style scoped>\n",
              "    .dataframe tbody tr th:only-of-type {\n",
              "        vertical-align: middle;\n",
              "    }\n",
              "\n",
              "    .dataframe tbody tr th {\n",
              "        vertical-align: top;\n",
              "    }\n",
              "\n",
              "    .dataframe thead th {\n",
              "        text-align: right;\n",
              "    }\n",
              "</style>\n",
              "<table border=\"1\" class=\"dataframe\">\n",
              "  <thead>\n",
              "    <tr style=\"text-align: right;\">\n",
              "      <th></th>\n",
              "      <th>name</th>\n",
              "      <th>collaborative</th>\n",
              "      <th>pid</th>\n",
              "      <th>modified_at</th>\n",
              "      <th>num_tracks</th>\n",
              "      <th>num_albums</th>\n",
              "      <th>num_followers</th>\n",
              "      <th>tracks</th>\n",
              "    </tr>\n",
              "  </thead>\n",
              "  <tbody>\n",
              "    <tr>\n",
              "      <th>0</th>\n",
              "      <td>drum &amp; bass</td>\n",
              "      <td>false</td>\n",
              "      <td>122000</td>\n",
              "      <td>1460332800</td>\n",
              "      <td>12</td>\n",
              "      <td>11</td>\n",
              "      <td>1</td>\n",
              "      <td>[Thunderdome, Zig Zak, Hot Like Sauce, One Day...</td>\n",
              "    </tr>\n",
              "    <tr>\n",
              "      <th>1</th>\n",
              "      <td>chillllll</td>\n",
              "      <td>false</td>\n",
              "      <td>122001</td>\n",
              "      <td>1466899200</td>\n",
              "      <td>29</td>\n",
              "      <td>28</td>\n",
              "      <td>1</td>\n",
              "      <td>[Come and See Me (feat. Drake), Weight in Gold...</td>\n",
              "    </tr>\n",
              "    <tr>\n",
              "      <th>2</th>\n",
              "      <td>November</td>\n",
              "      <td>false</td>\n",
              "      <td>122004</td>\n",
              "      <td>1416787200</td>\n",
              "      <td>40</td>\n",
              "      <td>30</td>\n",
              "      <td>1</td>\n",
              "      <td>[Beautiful Day, Leave and let go (Niva remix),...</td>\n",
              "    </tr>\n",
              "    <tr>\n",
              "      <th>3</th>\n",
              "      <td>spring 2016</td>\n",
              "      <td>false</td>\n",
              "      <td>122007</td>\n",
              "      <td>1465430400</td>\n",
              "      <td>53</td>\n",
              "      <td>39</td>\n",
              "      <td>1</td>\n",
              "      <td>[Zipporah, Shooting Stars, Say It, Lovefool, T...</td>\n",
              "    </tr>\n",
              "    <tr>\n",
              "      <th>4</th>\n",
              "      <td>Emily</td>\n",
              "      <td>false</td>\n",
              "      <td>122008</td>\n",
              "      <td>1422230400</td>\n",
              "      <td>16</td>\n",
              "      <td>16</td>\n",
              "      <td>1</td>\n",
              "      <td>[Sledgehammer, Talking Body, The Heart Wants W...</td>\n",
              "    </tr>\n",
              "  </tbody>\n",
              "</table>\n",
              "</div>"
            ],
            "text/plain": [
              "          name  ...                                             tracks\n",
              "0  drum & bass  ...  [Thunderdome, Zig Zak, Hot Like Sauce, One Day...\n",
              "1    chillllll  ...  [Come and See Me (feat. Drake), Weight in Gold...\n",
              "2     November  ...  [Beautiful Day, Leave and let go (Niva remix),...\n",
              "3  spring 2016  ...  [Zipporah, Shooting Stars, Say It, Lovefool, T...\n",
              "4        Emily  ...  [Sledgehammer, Talking Body, The Heart Wants W...\n",
              "\n",
              "[5 rows x 8 columns]"
            ]
          },
          "metadata": {},
          "execution_count": 12
        }
      ]
    },
    {
      "cell_type": "code",
      "metadata": {
        "colab": {
          "base_uri": "https://localhost:8080/"
        },
        "id": "hSZHJx-75gVy",
        "outputId": "26ece8de-e72e-40fb-e026-7d028d6829a1"
      },
      "source": [
        "len(playlist_df)"
      ],
      "execution_count": 13,
      "outputs": [
        {
          "output_type": "execute_result",
          "data": {
            "text/plain": [
              "2656"
            ]
          },
          "metadata": {},
          "execution_count": 13
        }
      ]
    },
    {
      "cell_type": "code",
      "metadata": {
        "id": "KRtZRGBg8zjq"
      },
      "source": [
        "tracks_df.to_csv('track_data.csv', sep='\\t')\n",
        "playlist_df.to_csv('playlist_data.csv', sep='\\t')"
      ],
      "execution_count": 14,
      "outputs": []
    }
  ]
}