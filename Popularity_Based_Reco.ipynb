{
  "nbformat": 4,
  "nbformat_minor": 0,
  "metadata": {
    "colab": {
      "name": "Popularity_Based_Reco.ipynb",
      "provenance": [],
      "collapsed_sections": [],
      "mount_file_id": "1n7jXYWF267Zr4aMs-H4nwSW7DmyVeC5z",
      "authorship_tag": "ABX9TyMWWiqGT8KSfptBU75pSMmr",
      "include_colab_link": true
    },
    "kernelspec": {
      "display_name": "Python 3",
      "name": "python3"
    },
    "language_info": {
      "name": "python"
    }
  },
  "cells": [
    {
      "cell_type": "markdown",
      "metadata": {
        "id": "view-in-github",
        "colab_type": "text"
      },
      "source": [
        "<a href=\"https://colab.research.google.com/github/sag005/spotify-playlist-recommendation/blob/main/Popularity_Based_Reco.ipynb\" target=\"_parent\"><img src=\"https://colab.research.google.com/assets/colab-badge.svg\" alt=\"Open In Colab\"/></a>"
      ]
    },
    {
      "cell_type": "code",
      "metadata": {
        "id": "-tkRIU9iFbXW"
      },
      "source": [
        "import pickle as pkl\n",
        "from collections import defaultdict\n",
        "import pandas as pd\n",
        "import random\n",
        "import numpy as np\n",
        "from scipy.spatial import distance\n",
        "from sklearn.metrics import ndcg_score\n",
        "import math\n",
        "import warnings"
      ],
      "execution_count": 1,
      "outputs": []
    },
    {
      "cell_type": "code",
      "metadata": {
        "id": "-XyPm5caZXJA"
      },
      "source": [
        "tracks_data = pd.read_pickle('track_data.pkl')\n",
        "playlists_data = pd.read_pickle('playlist_data.pkl')"
      ],
      "execution_count": 2,
      "outputs": []
    },
    {
      "cell_type": "code",
      "metadata": {
        "id": "F0HUeLjSTVsX"
      },
      "source": [
        "artist_tracks_dict = {}\n",
        "with open('artist_track_mapping.pkl', 'rb') as handle:\n",
        "    artist_tracks_dict = pkl.load(handle)"
      ],
      "execution_count": 3,
      "outputs": []
    },
    {
      "cell_type": "code",
      "metadata": {
        "id": "2137Q8ruHaaS"
      },
      "source": [
        "track_artist_mapping = {}\n",
        "with open('track_artist_mapping.pkl', 'rb') as handle:\n",
        "    track_artist_mapping = pkl.load(handle) "
      ],
      "execution_count": 4,
      "outputs": []
    },
    {
      "cell_type": "code",
      "metadata": {
        "id": "yVLrz6V0Kxxt"
      },
      "source": [
        "track_frequency = {}\n",
        "with open('track_frequency.pkl', 'rb') as handle:\n",
        "    track_frequency = pkl.load(handle)"
      ],
      "execution_count": 5,
      "outputs": []
    },
    {
      "cell_type": "code",
      "metadata": {
        "id": "2A3Xtw4qSx5F"
      },
      "source": [
        "artist_tracks_count_dict = {}\n",
        "with open('artist_track_count.pkl', 'rb') as handle:\n",
        "    artist_tracks_count_dict = pkl.load(handle)"
      ],
      "execution_count": 6,
      "outputs": []
    },
    {
      "cell_type": "code",
      "metadata": {
        "id": "KnMKCNzeFtTp"
      },
      "source": [
        "def getArtistsForTracks(tracks):\n",
        "  return [track_artist_mapping[track] for track in tracks]"
      ],
      "execution_count": 7,
      "outputs": []
    },
    {
      "cell_type": "code",
      "metadata": {
        "id": "_h78kjYQImlw"
      },
      "source": [
        "def R_precision(predicted_tracks, with_held_tracks):\n",
        "  # print(len(set(with_held_tracks)))\n",
        "  intersection = len(set(predicted_tracks).intersection(set(with_held_tracks)))\n",
        "  return intersection / len(set(with_held_tracks))"
      ],
      "execution_count": 8,
      "outputs": []
    },
    {
      "cell_type": "code",
      "metadata": {
        "id": "a1N_IHmi4g0S"
      },
      "source": [
        "import copy\n",
        "def NDCG(truth, pred, K):\n",
        "  pred_copy = copy.deepcopy(pred)\n",
        "  if len(pred) > 0:\n",
        "    rel_truth = np.zeros((1, max(len(pred), len(truth))))\n",
        "    rel_pred = np.zeros((1, max(len(pred), len(truth))))\n",
        "    count_t = 0\n",
        "    for t in truth:\n",
        "      if t in pred_copy:\n",
        "        idx = np.where(np.array(pred_copy) == t)[0]\n",
        "        pred_copy[idx[0]] = 'NAN'\n",
        "        rel_pred[0, idx[0]]=1\n",
        "        rel_truth[0, count_t]=1\n",
        "      count_t+=1\n",
        "    return ndcg_score(rel_truth, rel_pred, k=K)\n",
        "  else:\n",
        "    return 0"
      ],
      "execution_count": 73,
      "outputs": []
    },
    {
      "cell_type": "code",
      "metadata": {
        "id": "wJ-JCkfs_WRJ"
      },
      "source": [
        "def getMostPopularSongs(n, seed_playlist):\n",
        "  songs_with_freq_list = []\n",
        "  for song in track_frequency:\n",
        "    songs_with_freq_list.append((track_frequency[song], song))\n",
        "  songs_with_freq_list.sort(reverse=True)\n",
        "  res = [pair[1] for pair in songs_with_freq_list if pair[1] not in seed_playlist]\n",
        "  return res[:n]"
      ],
      "execution_count": 51,
      "outputs": []
    },
    {
      "cell_type": "code",
      "metadata": {
        "id": "kU3rOu8W_dIy"
      },
      "source": [
        "getArtistsForTracks(getMostPopularSongs(100, ['spotify:track:3a1lNhkSLSkpJE4MSHpDu9']))"
      ],
      "execution_count": null,
      "outputs": []
    },
    {
      "cell_type": "code",
      "metadata": {
        "id": "JSdHLzmNJHcn"
      },
      "source": [
        "validation_data = pd.read_pickle('Validation_dataset.pkl')"
      ],
      "execution_count": 12,
      "outputs": []
    },
    {
      "cell_type": "code",
      "metadata": {
        "id": "br0w-ZQhJXkK"
      },
      "source": [
        "def runPopularTrackModel(topKgrid):\n",
        "  for topK in topKgrid:\n",
        "    tracks_r_precision = []\n",
        "    artists_r_precision = []\n",
        "    ndcg_tracks = []\n",
        "    ndcg_artists = []\n",
        "    for idx, row in validation_data.iterrows():\n",
        "      res = getMostPopularSongs(topK, row['tracks'])\n",
        "      artists_of_pred = getArtistsForTracks(res)\n",
        "      tracks_r_precision.append(R_precision(res, row['with_held_tracks']))\n",
        "      artists_r_precision.append(R_precision(artists_of_pred, row['with_held_artists']))\n",
        "      ndcg_artists.append(NDCG(row['with_held_artists'], artists_of_pred, topK))\n",
        "      ndcg_tracks.append(NDCG(row['with_held_tracks'], res, topK))\n",
        "    print('K=',topK, ' ,RP(Artist)=',sum(artists_r_precision)/280)\n",
        "    print('K=',topK, ' ,RP(Track)=',sum(tracks_r_precision)/280)\n",
        "    print('K=',topK, ' ,NDCG(Track)=',sum(ndcg_tracks)/280)\n",
        "    print('K=',topK, ' ,NDCG(Artist)=',sum(ndcg_artists)/280)\n",
        "    print('=====================================================')"
      ],
      "execution_count": 74,
      "outputs": []
    },
    {
      "cell_type": "code",
      "metadata": {
        "colab": {
          "base_uri": "https://localhost:8080/"
        },
        "id": "FMyXT8xlK-yB",
        "outputId": "8a9d30d3-f672-4eab-e80e-c2ac46cb3cbd"
      },
      "source": [
        "runPopularTrackModel([10, 20, 30, 40, 50, 60, 70, 100, 200, 300, 400, 500])"
      ],
      "execution_count": 75,
      "outputs": [
        {
          "output_type": "stream",
          "name": "stdout",
          "text": [
            "K= 10  ,RP(Artist)= 0.03917375283446708\n",
            "K= 10  ,RP(Track)= 0.0\n",
            "K= 10  ,NDCG(Track)= 0.0\n",
            "K= 10  ,NDCG(Artist)= 0.11979168267831135\n",
            "=====================================================\n",
            "K= 20  ,RP(Artist)= 0.08119047619047612\n",
            "K= 20  ,RP(Track)= 0.0\n",
            "K= 20  ,NDCG(Track)= 0.0\n",
            "K= 20  ,NDCG(Artist)= 0.15943377412158097\n",
            "=====================================================\n",
            "K= 30  ,RP(Artist)= 0.11507369614512462\n",
            "K= 30  ,RP(Track)= 0.0\n",
            "K= 30  ,NDCG(Track)= 0.0\n",
            "K= 30  ,NDCG(Artist)= 0.1863124377856262\n",
            "=====================================================\n",
            "K= 40  ,RP(Artist)= 0.13420634920634913\n",
            "K= 40  ,RP(Track)= 0.0\n",
            "K= 40  ,NDCG(Track)= 0.0\n",
            "K= 40  ,NDCG(Artist)= 0.18995615850896774\n",
            "=====================================================\n",
            "K= 50  ,RP(Artist)= 0.14615787981859402\n",
            "K= 50  ,RP(Track)= 0.0\n",
            "K= 50  ,NDCG(Track)= 0.0\n",
            "K= 50  ,NDCG(Artist)= 0.18849296609358174\n",
            "=====================================================\n",
            "K= 60  ,RP(Artist)= 0.15725340136054416\n",
            "K= 60  ,RP(Track)= 0.0\n",
            "K= 60  ,NDCG(Track)= 0.0\n",
            "K= 60  ,NDCG(Artist)= 0.18940025213123007\n",
            "=====================================================\n",
            "K= 70  ,RP(Artist)= 0.17477607709750567\n",
            "K= 70  ,RP(Track)= 0.0\n",
            "K= 70  ,NDCG(Track)= 0.0\n",
            "K= 70  ,NDCG(Artist)= 0.19447242221284639\n",
            "=====================================================\n",
            "K= 100  ,RP(Artist)= 0.22205073696145125\n",
            "K= 100  ,RP(Track)= 0.0\n",
            "K= 100  ,NDCG(Track)= 0.0\n",
            "K= 100  ,NDCG(Artist)= 0.2074604005859607\n",
            "=====================================================\n",
            "K= 200  ,RP(Artist)= 0.3268013038548754\n",
            "K= 200  ,RP(Track)= 0.0\n",
            "K= 200  ,NDCG(Track)= 0.0\n",
            "K= 200  ,NDCG(Artist)= 0.2237652421962939\n",
            "=====================================================\n",
            "K= 300  ,RP(Artist)= 0.3841624149659862\n",
            "K= 300  ,RP(Track)= 0.0\n",
            "K= 300  ,NDCG(Track)= 0.0\n",
            "K= 300  ,NDCG(Artist)= 0.22391478451743382\n",
            "=====================================================\n",
            "K= 400  ,RP(Artist)= 0.43349348072562355\n",
            "K= 400  ,RP(Track)= 0.0\n",
            "K= 400  ,NDCG(Track)= 0.0\n",
            "K= 400  ,NDCG(Artist)= 0.22721405539703313\n",
            "=====================================================\n",
            "K= 500  ,RP(Artist)= 0.45941751700680283\n",
            "K= 500  ,RP(Track)= 0.0\n",
            "K= 500  ,NDCG(Track)= 0.0\n",
            "K= 500  ,NDCG(Artist)= 0.22668740604721357\n",
            "=====================================================\n"
          ]
        }
      ]
    },
    {
      "cell_type": "markdown",
      "metadata": {
        "id": "f_JG2J8b_ust"
      },
      "source": [
        "### Recommend Songs of only those Artists corresponding to Seed playlist"
      ]
    },
    {
      "cell_type": "code",
      "metadata": {
        "id": "TvYVtv8y_veu"
      },
      "source": [
        "def getMostPopularSongsForArtist(seedTracks, artist_name, n, tracks_to_choose_from=None):\n",
        "  if tracks_to_choose_from is None:\n",
        "    artist_songs = artist_tracks_dict[artist_name]\n",
        "    filtered = list(set(artist_songs) - set(seedTracks))\n",
        "    return random.sample(filtered, min(n, len(filtered)))\n",
        "  else:\n",
        "    track_list = tracks_to_choose_from[artist_name]\n",
        "    filtered = list(set(track_list) - set(seedTracks))\n",
        "    return random.sample(filtered, min(n, len(filtered)))\n",
        "  # artist_popular_songs = []\n",
        "  # for song in artist_songs:\n",
        "    # artist_popular_songs.append((track_frequency[song], song))\n",
        "    # artist_popular_songs.sort(reverse=True)\n",
        "    # filtered = [pair[1] for pair in artist_popular_songs if pair[1] not in seedTracks]\n",
        "  # return filtered[:n]\n",
        "\n"
      ],
      "execution_count": 80,
      "outputs": []
    },
    {
      "cell_type": "code",
      "metadata": {
        "id": "aMsJ8wST_ygn"
      },
      "source": [
        "def recommendPopularSongsBasedOnArtists(seedTracks, artists, n, tracks_to_choose_from=None):\n",
        "  total_tracks = 0\n",
        "  for artist in artists:\n",
        "    total_tracks += artist_tracks_count_dict[artist]\n",
        "  results = []\n",
        "  for artist in artists:\n",
        "    count = int(math.ceil((n * artist_tracks_count_dict[artist]) / total_tracks))\n",
        "    results.extend(getMostPopularSongsForArtist(seedTracks, artist, count, tracks_to_choose_from))\n",
        "  return results[:n]"
      ],
      "execution_count": 81,
      "outputs": []
    },
    {
      "cell_type": "code",
      "metadata": {
        "id": "URz2FX6T_3CH"
      },
      "source": [
        "def runPopularArtistTrackModel(topKgrid):\n",
        "  for topK in topKgrid:\n",
        "    tracks_r_precision = []\n",
        "    artists_r_precision = []\n",
        "    ndcg_tracks = []\n",
        "    ndcg_artists = []\n",
        "    for idx, row in validation_data.iterrows():\n",
        "      artists = getArtistsForTracks(row['tracks'])\n",
        "      res = recommendPopularSongsBasedOnArtists(list(set(row['tracks']) - set(row['with_held_tracks'])), artists, topK, None)\n",
        "      artists_of_pred = getArtistsForTracks(res)\n",
        "      tracks_r_precision.append(R_precision(res, row['with_held_tracks']))\n",
        "      artists_r_precision.append(R_precision(artists_of_pred, row['with_held_artists']))\n",
        "      ndcg_tracks.append(NDCG(row['with_held_tracks'], res, topK))\n",
        "      ndcg_artists.append(NDCG(row['with_held_artists'], artists_of_pred, topK))\n",
        "    print('K=',topK, ' ,RP(Artist)=',sum(artists_r_precision)/280)\n",
        "    print('K=',topK, ' ,RP(Track)=',sum(tracks_r_precision)/280)\n",
        "    print('K=',topK, ' ,NDCG(Track)=',sum(ndcg_tracks)/280)\n",
        "    print('K=',topK, ' ,NDCG(Artist)=',sum(ndcg_artists)/280)\n",
        "    print('=====================================================')"
      ],
      "execution_count": 82,
      "outputs": []
    },
    {
      "cell_type": "code",
      "metadata": {
        "colab": {
          "base_uri": "https://localhost:8080/"
        },
        "id": "u5fpN2VFSHxk",
        "outputId": "0d63449a-6a76-4a89-9561-53a261f92343"
      },
      "source": [
        "runPopularArtistTrackModel([10, 20, 30, 40, 50, 60, 70, 100, 200, 300, 400, 500])"
      ],
      "execution_count": 83,
      "outputs": [
        {
          "output_type": "stream",
          "name": "stdout",
          "text": [
            "K= 10  ,RP(Artist)= 0.214933390022676\n",
            "K= 10  ,RP(Track)= 0.034722222222222196\n",
            "K= 10  ,NDCG(Track)= 0.09423239558236923\n",
            "K= 10  ,NDCG(Artist)= 0.456243020584936\n",
            "=====================================================\n",
            "K= 20  ,RP(Artist)= 0.3978188775510204\n",
            "K= 20  ,RP(Track)= 0.06948412698412698\n",
            "K= 20  ,NDCG(Track)= 0.15390939970024026\n",
            "K= 20  ,NDCG(Artist)= 0.4854420741046158\n",
            "=====================================================\n",
            "K= 30  ,RP(Artist)= 0.533564342403628\n",
            "K= 30  ,RP(Track)= 0.1062301587301588\n",
            "K= 30  ,NDCG(Track)= 0.18103731171965867\n",
            "K= 30  ,NDCG(Artist)= 0.4932499902316047\n",
            "=====================================================\n",
            "K= 40  ,RP(Artist)= 0.6069784580498867\n",
            "K= 40  ,RP(Track)= 0.13496031746031772\n",
            "K= 40  ,NDCG(Track)= 0.20663531287086545\n",
            "K= 40  ,NDCG(Artist)= 0.48623864391986615\n",
            "=====================================================\n",
            "K= 50  ,RP(Artist)= 0.6770847505668939\n",
            "K= 50  ,RP(Track)= 0.1750793650793653\n",
            "K= 50  ,NDCG(Track)= 0.22758796699427034\n",
            "K= 50  ,NDCG(Artist)= 0.48033384917445027\n",
            "=====================================================\n",
            "K= 60  ,RP(Artist)= 0.7127026643990938\n",
            "K= 60  ,RP(Track)= 0.20634920634920662\n",
            "K= 60  ,NDCG(Track)= 0.2402515868393371\n",
            "K= 60  ,NDCG(Artist)= 0.4679260965594029\n",
            "=====================================================\n",
            "K= 70  ,RP(Artist)= 0.7400765306122454\n",
            "K= 70  ,RP(Track)= 0.22436507936507968\n",
            "K= 70  ,NDCG(Track)= 0.2384925053170251\n",
            "K= 70  ,NDCG(Artist)= 0.45653636116582463\n",
            "=====================================================\n",
            "K= 100  ,RP(Artist)= 0.8109594671201817\n",
            "K= 100  ,RP(Track)= 0.29861111111111116\n",
            "K= 100  ,NDCG(Track)= 0.25559780090660544\n",
            "K= 100  ,NDCG(Artist)= 0.43548311642586274\n",
            "=====================================================\n",
            "K= 200  ,RP(Artist)= 0.8953401360544216\n",
            "K= 200  ,RP(Track)= 0.4919841269841272\n",
            "K= 200  ,NDCG(Track)= 0.2855554662410052\n",
            "K= 200  ,NDCG(Artist)= 0.39247584112163936\n",
            "=====================================================\n",
            "K= 300  ,RP(Artist)= 0.9302380952380953\n",
            "K= 300  ,RP(Track)= 0.6480555555555553\n",
            "K= 300  ,NDCG(Track)= 0.29606292731360373\n",
            "K= 300  ,NDCG(Artist)= 0.372090092561253\n",
            "=====================================================\n",
            "K= 400  ,RP(Artist)= 0.9553316326530614\n",
            "K= 400  ,RP(Track)= 0.7720238095238099\n",
            "K= 400  ,NDCG(Track)= 0.2998362625198599\n",
            "K= 400  ,NDCG(Artist)= 0.360216635990443\n",
            "=====================================================\n",
            "K= 500  ,RP(Artist)= 0.9688421201814061\n",
            "K= 500  ,RP(Track)= 0.8550793650793652\n",
            "K= 500  ,NDCG(Track)= 0.3019776074816853\n",
            "K= 500  ,NDCG(Artist)= 0.3524212517359591\n",
            "=====================================================\n"
          ]
        }
      ]
    },
    {
      "cell_type": "markdown",
      "metadata": {
        "id": "aAYtlg3LVzPO"
      },
      "source": [
        "Higher artist R@K shows users have favourite artists and its common to have majority of playlist composed of their tracks."
      ]
    },
    {
      "cell_type": "code",
      "metadata": {
        "id": "OI045V_zW0EI"
      },
      "source": [
        "runPopularArtistTrackModel([10, 20, 30, 40, 50, 60, 70])"
      ],
      "execution_count": null,
      "outputs": []
    },
    {
      "cell_type": "markdown",
      "metadata": {
        "id": "Uf0BxwS0_90L"
      },
      "source": [
        "### Cosine Similarity of Playlist Title Word Embeddings - Find the similarity between query Playlist title and Trainig Playlist Titles(acting as genere)"
      ]
    },
    {
      "cell_type": "code",
      "metadata": {
        "id": "6JMkTAAc_8ke"
      },
      "source": [
        "import zipfile\n",
        "with zipfile.ZipFile('/content/drive/MyDrive/glove_emb.pb (1).zip', 'r') as zip_ref:\n",
        "    zip_ref.extractall('/content')"
      ],
      "execution_count": 40,
      "outputs": []
    },
    {
      "cell_type": "code",
      "metadata": {
        "id": "-ptFAsreAAJD"
      },
      "source": [
        "words_embeddings_dict = defaultdict()\n",
        "with open('glove_emb.pb', 'rb') as handle:\n",
        "    words_embeddings_dict = pkl.load(handle)"
      ],
      "execution_count": 41,
      "outputs": []
    },
    {
      "cell_type": "code",
      "metadata": {
        "colab": {
          "base_uri": "https://localhost:8080/"
        },
        "id": "4GwLPoD_ADvx",
        "outputId": "88f195b0-72b1-4838-81a9-c1664587c427"
      },
      "source": [
        "import nltk\n",
        "from nltk.corpus import stopwords\n",
        "nltk.download('stopwords')\n",
        "playlist_names = playlists_data['name']\n",
        "stop_words = set(stopwords.words('english'))"
      ],
      "execution_count": 61,
      "outputs": [
        {
          "output_type": "stream",
          "name": "stdout",
          "text": [
            "[nltk_data] Downloading package stopwords to /root/nltk_data...\n",
            "[nltk_data]   Package stopwords is already up-to-date!\n"
          ]
        }
      ]
    },
    {
      "cell_type": "code",
      "metadata": {
        "id": "5tldUmGVAJxu"
      },
      "source": [
        "def getPlaylistTitleEmbedding(name):\n",
        "  # print(name)\n",
        "  embeddies = np.zeros((1,300), dtype=float)\n",
        "  for w in name:\n",
        "    # print(w)\n",
        "    if w.lower() in words_embeddings_dict:\n",
        "      embeddies += np.array(words_embeddings_dict[w.lower()]).reshape((1,300))\n",
        "  return embeddies"
      ],
      "execution_count": 62,
      "outputs": []
    },
    {
      "cell_type": "code",
      "metadata": {
        "id": "2HzDz9zNgW2F"
      },
      "source": [
        "def tracksInPlaylist(p):\n",
        "  # print(p, len(playlists_data.loc[playlists_data['name']==p,'tracks']))\n",
        "  return list(playlists_data.loc[playlists_data['name']==p,'tracks'].iloc[0])"
      ],
      "execution_count": 63,
      "outputs": []
    },
    {
      "cell_type": "code",
      "metadata": {
        "id": "g2WJYZ3QALj9"
      },
      "source": [
        "def getMostSimilarPlaylist(query_playlist):\n",
        "  sim_matrix = []\n",
        "  # best_match = ''\n",
        "  name1 = [w.lower() for w in query_playlist.strip().split(' ') if not w.lower() in stop_words]\n",
        "  embedding1 = getPlaylistTitleEmbedding(name1)\n",
        "  for n2 in playlist_names.to_list():\n",
        "    # print(n2)\n",
        "    name2 = [w.lower() for w in n2.strip().split(' ') if not w.lower() in stop_words]\n",
        "    embedding2 = getPlaylistTitleEmbedding(name2)\n",
        "    sim = 1 - distance.cosine(embedding2, embedding1)\n",
        "    sim_matrix.append((sim, n2))\n",
        "    # print(sim, query_playlist, n2)\n",
        "    # if(sim > max_sim):\n",
        "      # max_sim = sim\n",
        "      # best_match = n2\n",
        "  return sim_matrix"
      ],
      "execution_count": 64,
      "outputs": []
    },
    {
      "cell_type": "code",
      "metadata": {
        "id": "KdyQ1884bEaa"
      },
      "source": [
        "def getRandomTopNFromBestMatchTitles(query_playlist, n, playlist_cnt, seedTracks):\n",
        "  sim_matrix = getMostSimilarPlaylist(query_playlist)\n",
        "  # print(sim_matrix)\n",
        "  sim_matrix = [pair for pair in sim_matrix if not np.isnan(pair[0])]\n",
        "  sim_matrix.sort(reverse=True)\n",
        "  # print(sim_matrix)\n",
        "  total_sim = sum([pair[0] for pair in sim_matrix[:playlist_cnt]])\n",
        "  result = []\n",
        "  for p in sim_matrix[:playlist_cnt]:\n",
        "    tracks = tracksInPlaylist(p[1])\n",
        "    weight = int(math.ceil(n * p[0] / total_sim))\n",
        "    result.extend(random.sample(tracks, min(weight, len(tracks))))\n",
        "  result = list(set(result) - set(seedTracks))\n",
        "  return result[:n]\n"
      ],
      "execution_count": 65,
      "outputs": []
    },
    {
      "cell_type": "code",
      "metadata": {
        "id": "e78QH982aYNN"
      },
      "source": [
        "def runWordEmbeddingsModel(topKgrid, playlist_cnt):\n",
        "  for topK in topKgrid:\n",
        "    tracks_r_precision = []\n",
        "    artists_r_precision = []\n",
        "    ndcg_tracks = []\n",
        "    ndcg_artists = []\n",
        "    for idx, row in validation_data.iterrows():\n",
        "      res = getRandomTopNFromBestMatchTitles(row['name'], topK, playlist_cnt, list(set(row['tracks']) - set(row['with_held_tracks'])))\n",
        "      artists_of_pred = getArtistsForTracks(res)\n",
        "      tracks_r_precision.append(R_precision(res, row['with_held_tracks']))\n",
        "      artists_r_precision.append(R_precision(artists_of_pred, row['with_held_artists']))\n",
        "      ndcg_tracks.append(NDCG(row['with_held_tracks'], res, topK))\n",
        "      ndcg_artists.append(NDCG(row['with_held_artists'], artists_of_pred, topK))\n",
        "    print('K=',topK, ' ,RP(Artist)=',sum(artists_r_precision)/280)\n",
        "    print('K=',topK, ' ,RP(Track)=',sum(tracks_r_precision)/280)\n",
        "    # print(ndcg_tracks)\n",
        "    print('K=',topK, ' ,NDCG(Track)=',sum(ndcg_tracks)/280)\n",
        "    print('K=',topK, ' ,NDCG(Artist)=',sum(ndcg_artists)/280)\n",
        "    print('=====================================================')"
      ],
      "execution_count": 66,
      "outputs": []
    },
    {
      "cell_type": "code",
      "metadata": {
        "id": "Awtfqbo1Mj2r"
      },
      "source": [
        "warnings.filterwarnings('ignore')"
      ],
      "execution_count": 67,
      "outputs": []
    },
    {
      "cell_type": "code",
      "metadata": {
        "id": "0Ol6ABpWf-CB",
        "colab": {
          "base_uri": "https://localhost:8080/"
        },
        "outputId": "603a6f27-0595-4aa8-c997-7a497d6e69ec"
      },
      "source": [
        "runWordEmbeddingsModel([10, 20, 30, 40, 50, 60, 70, 100, 200, 300, 400, 500], 1)"
      ],
      "execution_count": 68,
      "outputs": [
        {
          "output_type": "stream",
          "name": "stdout",
          "text": [
            "K= 10  ,RP(Artist)= 0.04570578231292513\n",
            "K= 10  ,RP(Track)= 0.01833333333333333\n",
            "K= 10  ,NDCG(Track)= 0.06291052150535761\n",
            "K= 10  ,NDCG(Artist)= 0.13155640410790367\n",
            "=====================================================\n",
            "K= 20  ,RP(Artist)= 0.07417800453514738\n",
            "K= 20  ,RP(Track)= 0.03087301587301585\n",
            "K= 20  ,NDCG(Track)= 0.0728763323061193\n",
            "K= 20  ,NDCG(Artist)= 0.15712506170174034\n",
            "=====================================================\n",
            "K= 30  ,RP(Artist)= 0.0846301020408163\n",
            "K= 30  ,RP(Track)= 0.039603174603174585\n",
            "K= 30  ,NDCG(Track)= 0.07053772711363447\n",
            "K= 30  ,NDCG(Artist)= 0.1521008774652166\n",
            "=====================================================\n",
            "K= 40  ,RP(Artist)= 0.09463293650793653\n",
            "K= 40  ,RP(Track)= 0.04781746031746028\n",
            "K= 40  ,NDCG(Track)= 0.07784473289980276\n",
            "K= 40  ,NDCG(Artist)= 0.15820276874378117\n",
            "=====================================================\n",
            "K= 50  ,RP(Artist)= 0.09875425170068028\n",
            "K= 50  ,RP(Track)= 0.049603174603174566\n",
            "K= 50  ,NDCG(Track)= 0.07884029391572345\n",
            "K= 50  ,NDCG(Artist)= 0.1616663920807967\n",
            "=====================================================\n",
            "K= 60  ,RP(Artist)= 0.09926445578231294\n",
            "K= 60  ,RP(Track)= 0.049603174603174566\n",
            "K= 60  ,NDCG(Track)= 0.07938248988779682\n",
            "K= 60  ,NDCG(Artist)= 0.156823019884791\n",
            "=====================================================\n",
            "K= 70  ,RP(Artist)= 0.09926445578231294\n",
            "K= 70  ,RP(Track)= 0.049603174603174566\n",
            "K= 70  ,NDCG(Track)= 0.07938248988779682\n",
            "K= 70  ,NDCG(Artist)= 0.159890089361225\n",
            "=====================================================\n",
            "K= 100  ,RP(Artist)= 0.09926445578231294\n",
            "K= 100  ,RP(Track)= 0.049603174603174566\n",
            "K= 100  ,NDCG(Track)= 0.07938248988779682\n",
            "K= 100  ,NDCG(Artist)= 0.15909156894509263\n",
            "=====================================================\n",
            "K= 200  ,RP(Artist)= 0.09926445578231294\n",
            "K= 200  ,RP(Track)= 0.049603174603174566\n",
            "K= 200  ,NDCG(Track)= 0.0792926067481474\n",
            "K= 200  ,NDCG(Artist)= 0.15922062683779759\n",
            "=====================================================\n",
            "K= 300  ,RP(Artist)= 0.09926445578231294\n",
            "K= 300  ,RP(Track)= 0.049603174603174566\n",
            "K= 300  ,NDCG(Track)= 0.07938248988779682\n",
            "K= 300  ,NDCG(Artist)= 0.159890089361225\n",
            "=====================================================\n",
            "K= 400  ,RP(Artist)= 0.09926445578231294\n",
            "K= 400  ,RP(Track)= 0.049603174603174566\n",
            "K= 400  ,NDCG(Track)= 0.07938248988779682\n",
            "K= 400  ,NDCG(Artist)= 0.1589115404243763\n",
            "=====================================================\n",
            "K= 500  ,RP(Artist)= 0.09926445578231294\n",
            "K= 500  ,RP(Track)= 0.049603174603174566\n",
            "K= 500  ,NDCG(Track)= 0.0799620692715748\n",
            "K= 500  ,NDCG(Artist)= 0.15678699421927225\n",
            "=====================================================\n"
          ]
        }
      ]
    },
    {
      "cell_type": "markdown",
      "metadata": {
        "id": "ObT8gwDhqTb8"
      },
      "source": [
        "## with top 4 matches"
      ]
    },
    {
      "cell_type": "code",
      "metadata": {
        "id": "AiKZSWXoqV6b",
        "colab": {
          "base_uri": "https://localhost:8080/"
        },
        "outputId": "b487b195-2233-4e04-ec46-e76d5f22a1d6"
      },
      "source": [
        "runWordEmbeddingsModel([10, 20, 30, 40, 50, 60, 70, 100, 200, 300, 400, 500], 4)"
      ],
      "execution_count": 69,
      "outputs": [
        {
          "output_type": "stream",
          "name": "stdout",
          "text": [
            "K= 10  ,RP(Artist)= 0.03327806122448978\n",
            "K= 10  ,RP(Track)= 0.010039682539682543\n",
            "K= 10  ,NDCG(Track)= 0.03167864019281368\n",
            "K= 10  ,NDCG(Artist)= 0.08836972474831191\n",
            "=====================================================\n",
            "K= 20  ,RP(Artist)= 0.067906746031746\n",
            "K= 20  ,RP(Track)= 0.019761904761904755\n",
            "K= 20  ,NDCG(Track)= 0.05481885881760217\n",
            "K= 20  ,NDCG(Artist)= 0.15196403036147452\n",
            "=====================================================\n",
            "K= 30  ,RP(Artist)= 0.09063066893424034\n",
            "K= 30  ,RP(Track)= 0.029166666666666653\n",
            "K= 30  ,NDCG(Track)= 0.06626443129997632\n",
            "K= 30  ,NDCG(Artist)= 0.1736726433455455\n",
            "=====================================================\n",
            "K= 40  ,RP(Artist)= 0.10067176870748296\n",
            "K= 40  ,RP(Track)= 0.03555555555555554\n",
            "K= 40  ,NDCG(Track)= 0.060149770123431444\n",
            "K= 40  ,NDCG(Artist)= 0.1664665951968735\n",
            "=====================================================\n",
            "K= 50  ,RP(Artist)= 0.10910856009070291\n",
            "K= 50  ,RP(Track)= 0.04115079365079363\n",
            "K= 50  ,NDCG(Track)= 0.06603014358305857\n",
            "K= 50  ,NDCG(Artist)= 0.1603242843007847\n",
            "=====================================================\n",
            "K= 60  ,RP(Artist)= 0.13150935374149672\n",
            "K= 60  ,RP(Track)= 0.04869047619047616\n",
            "K= 60  ,NDCG(Track)= 0.0652625068432118\n",
            "K= 60  ,NDCG(Artist)= 0.17732975560631006\n",
            "=====================================================\n",
            "K= 70  ,RP(Artist)= 0.1341383219954649\n",
            "K= 70  ,RP(Track)= 0.056428571428571384\n",
            "K= 70  ,NDCG(Track)= 0.07483164715917688\n",
            "K= 70  ,NDCG(Artist)= 0.17022838910980811\n",
            "=====================================================\n",
            "K= 100  ,RP(Artist)= 0.15685657596371896\n",
            "K= 100  ,RP(Track)= 0.061904761904761886\n",
            "K= 100  ,NDCG(Track)= 0.07883054094058026\n",
            "K= 100  ,NDCG(Artist)= 0.17689716173267217\n",
            "=====================================================\n",
            "K= 200  ,RP(Artist)= 0.1793282312925172\n",
            "K= 200  ,RP(Track)= 0.07376984126984133\n",
            "K= 200  ,NDCG(Track)= 0.08586839514014691\n",
            "K= 200  ,NDCG(Artist)= 0.18186453500300942\n",
            "=====================================================\n",
            "K= 300  ,RP(Artist)= 0.18279053287981878\n",
            "K= 300  ,RP(Track)= 0.07376984126984133\n",
            "K= 300  ,NDCG(Track)= 0.08511193338836527\n",
            "K= 300  ,NDCG(Artist)= 0.18333000145216252\n",
            "=====================================================\n",
            "K= 400  ,RP(Artist)= 0.18279053287981878\n",
            "K= 400  ,RP(Track)= 0.07376984126984133\n",
            "K= 400  ,NDCG(Track)= 0.0850222150247392\n",
            "K= 400  ,NDCG(Artist)= 0.1855293249671077\n",
            "=====================================================\n",
            "K= 500  ,RP(Artist)= 0.18279053287981878\n",
            "K= 500  ,RP(Track)= 0.07376984126984133\n",
            "K= 500  ,NDCG(Track)= 0.0850222150247392\n",
            "K= 500  ,NDCG(Artist)= 0.1851005408009159\n",
            "=====================================================\n"
          ]
        }
      ]
    },
    {
      "cell_type": "markdown",
      "metadata": {
        "id": "pXVIPzsAuEk0"
      },
      "source": [
        "## with top 3 matches"
      ]
    },
    {
      "cell_type": "code",
      "metadata": {
        "id": "P5lB3oLrqbbw",
        "colab": {
          "base_uri": "https://localhost:8080/"
        },
        "outputId": "7092a5f9-fde1-42aa-90dd-94ec59d1edce"
      },
      "source": [
        "runWordEmbeddingsModel([10, 20, 30, 40, 50, 60, 70, 100, 200, 300, 400, 500], 3)"
      ],
      "execution_count": 70,
      "outputs": [
        {
          "output_type": "stream",
          "name": "stdout",
          "text": [
            "K= 10  ,RP(Artist)= 0.03278061224489795\n",
            "K= 10  ,RP(Track)= 0.009682539682539685\n",
            "K= 10  ,NDCG(Track)= 0.029695287777445664\n",
            "K= 10  ,NDCG(Artist)= 0.08836530140666722\n",
            "=====================================================\n",
            "K= 20  ,RP(Artist)= 0.064672619047619\n",
            "K= 20  ,RP(Track)= 0.02265873015873015\n",
            "K= 20  ,NDCG(Track)= 0.05986674406359923\n",
            "K= 20  ,NDCG(Artist)= 0.15485468814255035\n",
            "=====================================================\n",
            "K= 30  ,RP(Artist)= 0.0760926870748299\n",
            "K= 30  ,RP(Track)= 0.031626984126984094\n",
            "K= 30  ,NDCG(Track)= 0.06747680713699819\n",
            "K= 30  ,NDCG(Artist)= 0.14125622683861394\n",
            "=====================================================\n",
            "K= 40  ,RP(Artist)= 0.10361394557823127\n",
            "K= 40  ,RP(Track)= 0.041428571428571405\n",
            "K= 40  ,NDCG(Track)= 0.06616274666940886\n",
            "K= 40  ,NDCG(Artist)= 0.16959972096454193\n",
            "=====================================================\n",
            "K= 50  ,RP(Artist)= 0.11286989795918366\n",
            "K= 50  ,RP(Track)= 0.04936507936507931\n",
            "K= 50  ,NDCG(Track)= 0.07769312701551474\n",
            "K= 50  ,NDCG(Artist)= 0.16636481360447145\n",
            "=====================================================\n",
            "K= 60  ,RP(Artist)= 0.12200963718820866\n",
            "K= 60  ,RP(Track)= 0.04960317460317455\n",
            "K= 60  ,NDCG(Track)= 0.07208724422211621\n",
            "K= 60  ,NDCG(Artist)= 0.16666515007909422\n",
            "=====================================================\n",
            "K= 70  ,RP(Artist)= 0.13111536281179142\n",
            "K= 70  ,RP(Track)= 0.05543650793650788\n",
            "K= 70  ,NDCG(Track)= 0.0823469465301762\n",
            "K= 70  ,NDCG(Artist)= 0.17384758917225956\n",
            "=====================================================\n",
            "K= 100  ,RP(Artist)= 0.14919926303854888\n",
            "K= 100  ,RP(Track)= 0.06333333333333334\n",
            "K= 100  ,NDCG(Track)= 0.07818478994127466\n",
            "K= 100  ,NDCG(Artist)= 0.17182109790866035\n",
            "=====================================================\n",
            "K= 200  ,RP(Artist)= 0.15896400226757387\n",
            "K= 200  ,RP(Track)= 0.0679761904761905\n",
            "K= 200  ,NDCG(Track)= 0.08158508114727524\n",
            "K= 200  ,NDCG(Artist)= 0.1768367789641824\n",
            "=====================================================\n",
            "K= 300  ,RP(Artist)= 0.16011479591836753\n",
            "K= 300  ,RP(Track)= 0.0679761904761905\n",
            "K= 300  ,NDCG(Track)= 0.08160002384181474\n",
            "K= 300  ,NDCG(Artist)= 0.17745634301928587\n",
            "=====================================================\n",
            "K= 400  ,RP(Artist)= 0.16011479591836753\n",
            "K= 400  ,RP(Track)= 0.0679761904761905\n",
            "K= 400  ,NDCG(Track)= 0.08159241641844445\n",
            "K= 400  ,NDCG(Artist)= 0.1774487355959156\n",
            "=====================================================\n",
            "K= 500  ,RP(Artist)= 0.16011479591836753\n",
            "K= 500  ,RP(Track)= 0.0679761904761905\n",
            "K= 500  ,NDCG(Track)= 0.08159241641844445\n",
            "K= 500  ,NDCG(Artist)= 0.1774487355959156\n",
            "=====================================================\n"
          ]
        }
      ]
    },
    {
      "cell_type": "markdown",
      "metadata": {
        "id": "nbydQT1ZuLol"
      },
      "source": [
        "## with top 2 matches"
      ]
    },
    {
      "cell_type": "code",
      "metadata": {
        "id": "lJBOTyTCuNF7"
      },
      "source": [
        "runWordEmbeddingsModel([10, 20, 30, 40, 50, 60, 70, 100, 200, 300, 400, 500], 2)"
      ],
      "execution_count": null,
      "outputs": []
    },
    {
      "cell_type": "code",
      "metadata": {
        "id": "LqC85MS_xQ23",
        "colab": {
          "base_uri": "https://localhost:8080/"
        },
        "outputId": "2e8a1e05-3dba-490f-b8c9-a83b7b290f92"
      },
      "source": [
        "runWordEmbeddingsModel([10, 20, 30, 40, 50, 60, 70, 100, 200, 300, 400, 500], 10)"
      ],
      "execution_count": 72,
      "outputs": [
        {
          "output_type": "stream",
          "name": "stdout",
          "text": [
            "K= 10  ,RP(Artist)= 0.039606009070294754\n",
            "K= 10  ,RP(Track)= 0.008412698412698415\n",
            "K= 10  ,NDCG(Track)= 0.02849204429717998\n",
            "K= 10  ,NDCG(Artist)= 0.11229172059870464\n",
            "=====================================================\n",
            "K= 20  ,RP(Artist)= 0.07356150793650791\n",
            "K= 20  ,RP(Track)= 0.017658730158730155\n",
            "K= 20  ,NDCG(Track)= 0.04973877960059961\n",
            "K= 20  ,NDCG(Artist)= 0.15471609921470675\n",
            "=====================================================\n",
            "K= 30  ,RP(Artist)= 0.08196003401360541\n",
            "K= 30  ,RP(Track)= 0.023730158730158716\n",
            "K= 30  ,NDCG(Track)= 0.05235703656123499\n",
            "K= 30  ,NDCG(Artist)= 0.15640455229870046\n",
            "=====================================================\n",
            "K= 40  ,RP(Artist)= 0.11402210884353736\n",
            "K= 40  ,RP(Track)= 0.03599206349206345\n",
            "K= 40  ,NDCG(Track)= 0.06992129305068595\n",
            "K= 40  ,NDCG(Artist)= 0.1807183718138687\n",
            "=====================================================\n",
            "K= 50  ,RP(Artist)= 0.11852749433106573\n",
            "K= 50  ,RP(Track)= 0.03960317460317457\n",
            "K= 50  ,NDCG(Track)= 0.06465388097440485\n",
            "K= 50  ,NDCG(Artist)= 0.1656013982181892\n",
            "=====================================================\n",
            "K= 60  ,RP(Artist)= 0.13784580498866217\n",
            "K= 60  ,RP(Track)= 0.04646825396825392\n",
            "K= 60  ,NDCG(Track)= 0.07228794257349476\n",
            "K= 60  ,NDCG(Artist)= 0.17743546622467388\n",
            "=====================================================\n",
            "K= 70  ,RP(Artist)= 0.15149801587301598\n",
            "K= 70  ,RP(Track)= 0.048571428571428536\n",
            "K= 70  ,NDCG(Track)= 0.07465907466633163\n",
            "K= 70  ,NDCG(Artist)= 0.18706138986154722\n",
            "=====================================================\n",
            "K= 100  ,RP(Artist)= 0.18198979591836748\n",
            "K= 100  ,RP(Track)= 0.07111111111111118\n",
            "K= 100  ,NDCG(Track)= 0.08961769386212384\n",
            "K= 100  ,NDCG(Artist)= 0.19233114938745824\n",
            "=====================================================\n",
            "K= 200  ,RP(Artist)= 0.23656320861678032\n",
            "K= 200  ,RP(Track)= 0.09630952380952389\n",
            "K= 200  ,NDCG(Track)= 0.09705467903081645\n",
            "K= 200  ,NDCG(Artist)= 0.20430096897477742\n",
            "=====================================================\n",
            "K= 300  ,RP(Artist)= 0.2667984693877553\n",
            "K= 300  ,RP(Track)= 0.10992063492063506\n",
            "K= 300  ,NDCG(Track)= 0.10278268717740321\n",
            "K= 300  ,NDCG(Artist)= 0.20687278171057857\n",
            "=====================================================\n",
            "K= 400  ,RP(Artist)= 0.2750722789115647\n",
            "K= 400  ,RP(Track)= 0.11634920634920647\n",
            "K= 400  ,NDCG(Track)= 0.1040985952929759\n",
            "K= 400  ,NDCG(Artist)= 0.19840701107842842\n",
            "=====================================================\n",
            "K= 500  ,RP(Artist)= 0.28189625850340144\n",
            "K= 500  ,RP(Track)= 0.11956349206349223\n",
            "K= 500  ,NDCG(Track)= 0.10616207269813707\n",
            "K= 500  ,NDCG(Artist)= 0.20061959518081354\n",
            "=====================================================\n"
          ]
        }
      ]
    },
    {
      "cell_type": "markdown",
      "metadata": {
        "id": "6GwgLIdexEh0"
      },
      "source": [
        "##Combine Word Embeddings with Artist popularity (No need to read)"
      ]
    },
    {
      "cell_type": "code",
      "metadata": {
        "id": "0PBVVP3j0ZJu"
      },
      "source": [
        "def getTrackDictForArtistWithinPlayists(sim_matrix):\n",
        "  all_tracks= []\n",
        "  for p in sim_matrix:\n",
        "    all_tracks.extend(tracksInPlaylist(p[1]))\n",
        "  artist_track_dict = defaultdict(list)\n",
        "  for track in all_tracks:\n",
        "    artist_track_dict[track_artist_mapping[track]].append(track)\n",
        "  return artist_track_dict"
      ],
      "execution_count": null,
      "outputs": []
    },
    {
      "cell_type": "code",
      "metadata": {
        "id": "-_zQYkedvq2M"
      },
      "source": [
        "def runPopularArtistPlusWordEmbeddingModel(topKgrid):\n",
        "  for topK in topKgrid:\n",
        "    tracks_r_precision = []\n",
        "    artists_r_precision = []\n",
        "    ndcg_tracks = []\n",
        "    for idx, row in validation_data.iterrows():\n",
        "      sim_matrix = getMostSimilarPlaylist(row['name'])\n",
        "      sim_matrix = [pair for pair in sim_matrix if not np.isnan(pair[0])]\n",
        "      sim_matrix.sort(reverse=True)\n",
        "      tracks_to_choose_from = getTrackDictForArtistWithinPlayists(sim_matrix[:20])\n",
        "      res = recommendPopularSongsBasedOnArtists(row['tracks'], list(tracks_to_choose_from.keys()), topK, tracks_to_choose_from)\n",
        "      artists_of_pred = getArtistsForTracks(res)\n",
        "      tracks_r_precision.append(R_precision(res, row['with_held_tracks']))\n",
        "      artists_r_precision.append(R_precision(artists_of_pred, row['with_held_artists']))\n",
        "      ndcg_tracks.append(NDCG(row['with_held_tracks'], res, topK))\n",
        "    print('K=',topK, ' ,RP(Artist)=',sum(artists_r_precision)/280)\n",
        "    print('K=',topK, ' ,RP(Track)=',sum(tracks_r_precision)/280)\n",
        "    print('K=',topK, ' ,NDCG(Track)=',sum(ndcg_tracks)/280)\n",
        "    print('=====================================================')"
      ],
      "execution_count": null,
      "outputs": []
    },
    {
      "cell_type": "code",
      "metadata": {
        "id": "1XEADd-E2dxM",
        "colab": {
          "base_uri": "https://localhost:8080/"
        },
        "outputId": "52df06a2-43a4-45b9-ccb5-53204368b3ba"
      },
      "source": [
        "runPopularArtistPlusWordEmbeddingModel([10, 20, 30, 40, 50, 60, 70, 100])"
      ],
      "execution_count": null,
      "outputs": [
        {
          "output_type": "stream",
          "name": "stdout",
          "text": [
            "K= 10  ,RP(Artist)= 0.06216128117913829\n",
            "K= 10  ,RP(Track)= 0.01301587301587302\n",
            "K= 10  ,NDCG(Track)= 0.048315354148027116\n",
            "=====================================================\n",
            "K= 20  ,RP(Artist)= 0.09726899092970523\n",
            "K= 20  ,RP(Track)= 0.025198412698412685\n",
            "K= 20  ,NDCG(Track)= 0.058512025778202456\n",
            "=====================================================\n",
            "K= 30  ,RP(Artist)= 0.12450538548752842\n",
            "K= 30  ,RP(Track)= 0.029087301587301568\n",
            "K= 30  ,NDCG(Track)= 0.06067194781868334\n",
            "=====================================================\n",
            "K= 40  ,RP(Artist)= 0.14595096371882102\n",
            "K= 40  ,RP(Track)= 0.03734126984126981\n",
            "K= 40  ,NDCG(Track)= 0.07399425398276945\n",
            "=====================================================\n",
            "K= 50  ,RP(Artist)= 0.16419217687074844\n",
            "K= 50  ,RP(Track)= 0.04345238095238091\n",
            "K= 50  ,NDCG(Track)= 0.07631631634538912\n",
            "=====================================================\n",
            "K= 60  ,RP(Artist)= 0.18302295918367362\n",
            "K= 60  ,RP(Track)= 0.04638888888888884\n",
            "K= 60  ,NDCG(Track)= 0.07543499597435674\n",
            "=====================================================\n",
            "K= 70  ,RP(Artist)= 0.19517006802721104\n",
            "K= 70  ,RP(Track)= 0.048809523809523754\n",
            "K= 70  ,NDCG(Track)= 0.07278133910441542\n",
            "=====================================================\n",
            "K= 100  ,RP(Artist)= 0.23253259637188245\n",
            "K= 100  ,RP(Track)= 0.06246031746031743\n",
            "K= 100  ,NDCG(Track)= 0.08485086070108266\n",
            "=====================================================\n"
          ]
        }
      ]
    },
    {
      "cell_type": "markdown",
      "metadata": {
        "id": "iaypsjXX4aJJ"
      },
      "source": [
        "##With 20 similar playlists"
      ]
    },
    {
      "cell_type": "code",
      "metadata": {
        "id": "xZN_fAzT4Y6O"
      },
      "source": [
        "runPopularArtistPlusWordEmbeddingModel([10, 20, 30, 40, 50, 60, 70])"
      ],
      "execution_count": null,
      "outputs": []
    },
    {
      "cell_type": "markdown",
      "metadata": {
        "id": "ROSdeSLH8PqP"
      },
      "source": [
        "Word embeddings are not giving ggod results not even with same artists as of seed list. Which means not all songs are related to the title of the playlist. The songs are random and do not describe the overall genere of songs. "
      ]
    },
    {
      "cell_type": "code",
      "metadata": {
        "id": "EUPAdgDy8qfA"
      },
      "source": [
        "testing_dataset = pd.read_pickle('Test_dataset.pkl')"
      ],
      "execution_count": null,
      "outputs": []
    },
    {
      "cell_type": "code",
      "metadata": {
        "colab": {
          "base_uri": "https://localhost:8080/"
        },
        "id": "dm5PDyd3M5_4",
        "outputId": "506accc4-d399-4fcd-cf29-fab3c8a7db56"
      },
      "source": [
        "sum(testing_dataset['num_tracks'])"
      ],
      "execution_count": null,
      "outputs": [
        {
          "output_type": "execute_result",
          "data": {
            "text/plain": [
              "2463"
            ]
          },
          "metadata": {},
          "execution_count": 17
        }
      ]
    },
    {
      "cell_type": "code",
      "metadata": {
        "id": "rGbZNg-wNDMu"
      },
      "source": [
        ""
      ],
      "execution_count": null,
      "outputs": []
    }
  ]
}