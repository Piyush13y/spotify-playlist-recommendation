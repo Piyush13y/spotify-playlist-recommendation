{
  "nbformat": 4,
  "nbformat_minor": 0,
  "metadata": {
    "colab": {
      "name": "Popularity_Based_Reco.ipynb",
      "provenance": [],
      "collapsed_sections": [],
      "mount_file_id": "1n7jXYWF267Zr4aMs-H4nwSW7DmyVeC5z",
      "authorship_tag": "ABX9TyMVkm3dsv1EEuWZ26ropNYf",
      "include_colab_link": true
    },
    "kernelspec": {
      "display_name": "Python 3",
      "name": "python3"
    },
    "language_info": {
      "name": "python"
    }
  },
  "cells": [
    {
      "cell_type": "markdown",
      "metadata": {
        "id": "view-in-github",
        "colab_type": "text"
      },
      "source": [
        "<a href=\"https://colab.research.google.com/github/sag005/spotify-playlist-recommendation/blob/main/Popularity_Based_Reco.ipynb\" target=\"_parent\"><img src=\"https://colab.research.google.com/assets/colab-badge.svg\" alt=\"Open In Colab\"/></a>"
      ]
    },
    {
      "cell_type": "code",
      "metadata": {
        "id": "-tkRIU9iFbXW"
      },
      "source": [
        "import pickle as pkl\n",
        "from collections import defaultdict\n",
        "import pandas as pd\n",
        "import random\n",
        "import numpy as np\n",
        "from scipy.spatial import distance\n",
        "from sklearn.metrics import ndcg_score\n",
        "import math\n",
        "import warnings"
      ],
      "execution_count": null,
      "outputs": []
    },
    {
      "cell_type": "code",
      "metadata": {
        "id": "-XyPm5caZXJA"
      },
      "source": [
        "tracks_data = pd.read_pickle('track_data.pkl')\n",
        "playlists_data = pd.read_pickle('playlist_data.pkl')"
      ],
      "execution_count": null,
      "outputs": []
    },
    {
      "cell_type": "code",
      "metadata": {
        "id": "F0HUeLjSTVsX"
      },
      "source": [
        "artist_tracks_dict = {}\n",
        "with open('artist_track_mapping.pkl', 'rb') as handle:\n",
        "    artist_tracks_dict = pkl.load(handle)"
      ],
      "execution_count": null,
      "outputs": []
    },
    {
      "cell_type": "code",
      "metadata": {
        "id": "2137Q8ruHaaS"
      },
      "source": [
        "track_artist_mapping = {}\n",
        "with open('track_artist_mapping.pkl', 'rb') as handle:\n",
        "    track_artist_mapping = pkl.load(handle) "
      ],
      "execution_count": null,
      "outputs": []
    },
    {
      "cell_type": "code",
      "metadata": {
        "id": "yVLrz6V0Kxxt"
      },
      "source": [
        "track_frequency = {}\n",
        "with open('track_frequency.pkl', 'rb') as handle:\n",
        "    track_frequency = pkl.load(handle)"
      ],
      "execution_count": null,
      "outputs": []
    },
    {
      "cell_type": "code",
      "metadata": {
        "id": "2A3Xtw4qSx5F"
      },
      "source": [
        "artist_tracks_count_dict = {}\n",
        "with open('artist_track_count.pkl', 'rb') as handle:\n",
        "    artist_tracks_count_dict = pkl.load(handle)"
      ],
      "execution_count": null,
      "outputs": []
    },
    {
      "cell_type": "code",
      "metadata": {
        "id": "KnMKCNzeFtTp"
      },
      "source": [
        "def getArtistsForTracks(tracks):\n",
        "  return [track_artist_mapping[track] for track in tracks]"
      ],
      "execution_count": null,
      "outputs": []
    },
    {
      "cell_type": "code",
      "metadata": {
        "id": "_h78kjYQImlw"
      },
      "source": [
        "def R_precision(predicted_tracks, with_held_tracks):\n",
        "  # print(len(set(with_held_tracks)))\n",
        "  intersection = len(set(predicted_tracks).intersection(set(with_held_tracks)))\n",
        "  return intersection / len(set(with_held_tracks))"
      ],
      "execution_count": null,
      "outputs": []
    },
    {
      "cell_type": "code",
      "metadata": {
        "id": "a1N_IHmi4g0S"
      },
      "source": [
        "def NDCG(truth, pred, K):\n",
        "  if len(pred) > 0:\n",
        "    rel_truth = np.zeros((1, len(pred)))\n",
        "    rel_pred = np.zeros((1, len(pred)))\n",
        "    count_t = 0\n",
        "    for t in truth:\n",
        "      if t in pred:\n",
        "        idx = np.where(np.array(pred) == t)[0]\n",
        "        # print(idx)\n",
        "        rel_pred[0, idx[0]]=1\n",
        "        rel_truth[0, count_t]=1\n",
        "      count_t+=1\n",
        "    return ndcg_score(rel_truth, rel_pred, k=K)\n",
        "  else:\n",
        "    return 0"
      ],
      "execution_count": 43,
      "outputs": []
    },
    {
      "cell_type": "code",
      "metadata": {
        "id": "wJ-JCkfs_WRJ"
      },
      "source": [
        "def getMostPopularSongs(n, seed_playlist):\n",
        "  songs_with_freq_list = []\n",
        "  for song in track_frequency:\n",
        "    songs_with_freq_list.append((track_frequency[song], song))\n",
        "  songs_with_freq_list.sort(reverse=True)\n",
        "  res = [pair[1] for pair in songs_with_freq_list if pair[1] not in seed_playlist]\n",
        "  return res[:n]"
      ],
      "execution_count": null,
      "outputs": []
    },
    {
      "cell_type": "code",
      "metadata": {
        "id": "kU3rOu8W_dIy"
      },
      "source": [
        "getArtistsForTracks(getMostPopularSongs(100, ['spotify:track:3a1lNhkSLSkpJE4MSHpDu9']))"
      ],
      "execution_count": null,
      "outputs": []
    },
    {
      "cell_type": "code",
      "metadata": {
        "id": "JSdHLzmNJHcn"
      },
      "source": [
        "validation_data = pd.read_pickle('Validation_dataset.pkl')"
      ],
      "execution_count": null,
      "outputs": []
    },
    {
      "cell_type": "code",
      "metadata": {
        "id": "br0w-ZQhJXkK"
      },
      "source": [
        "def runPopularTrackModel(topKgrid):\n",
        "  for topK in topKgrid:\n",
        "    tracks_r_precision = []\n",
        "    artists_r_precision = []\n",
        "    ndcg_tracks = []\n",
        "    for idx, row in validation_data.iterrows():\n",
        "      res = getMostPopularSongs(topK, row['tracks'])\n",
        "      artists_of_pred = getArtistsForTracks(res)\n",
        "      tracks_r_precision.append(R_precision(res, row['with_held_tracks']))\n",
        "      artists_r_precision.append(R_precision(artists_of_pred, row['with_held_artists']))\n",
        "      ndcg_tracks.append(NDCG(row['with_held_tracks'], res, topK))\n",
        "    print('K=',topK, ' ,RP(Artist)=',sum(artists_r_precision)/280)\n",
        "    print('K=',topK, ' ,RP(Track)=',sum(tracks_r_precision)/280)\n",
        "    print('K=',topK, ' ,NDCG(Track)=',sum(ndcg_tracks)/280)\n",
        "    # print('K=',topK, ' ,NDCG(Artist)=',NDCG(row['with_held_artists'], artists_of_pred))\n",
        "    print('=====================================================')"
      ],
      "execution_count": null,
      "outputs": []
    },
    {
      "cell_type": "code",
      "metadata": {
        "colab": {
          "base_uri": "https://localhost:8080/"
        },
        "id": "FMyXT8xlK-yB",
        "outputId": "9a97d9df-73a6-4256-b5c3-214c8645568a"
      },
      "source": [
        "runPopularTrackModel([10, 15, 20, 25, 30,35, 50])"
      ],
      "execution_count": null,
      "outputs": [
        {
          "name": "stdout",
          "output_type": "stream",
          "text": [
            "K= 10  ,RP(Artist)= 0.03917375283446708\n",
            "K= 10  ,RP(Track)= 0.0\n",
            "K= 10  ,NDCG(Track)= 0.0\n",
            "=====================================================\n",
            "K= 15  ,RP(Artist)= 0.07211451247165528\n",
            "K= 15  ,RP(Track)= 0.0\n",
            "K= 15  ,NDCG(Track)= 0.0\n",
            "=====================================================\n",
            "K= 20  ,RP(Artist)= 0.08119047619047612\n",
            "K= 20  ,RP(Track)= 0.0\n",
            "K= 20  ,NDCG(Track)= 0.0\n",
            "=====================================================\n",
            "K= 25  ,RP(Artist)= 0.09361536281179131\n",
            "K= 25  ,RP(Track)= 0.0\n",
            "K= 25  ,NDCG(Track)= 0.0\n",
            "=====================================================\n",
            "K= 30  ,RP(Artist)= 0.11507369614512462\n",
            "K= 30  ,RP(Track)= 0.0\n",
            "K= 30  ,NDCG(Track)= 0.0\n",
            "=====================================================\n",
            "K= 35  ,RP(Artist)= 0.1206533446712017\n",
            "K= 35  ,RP(Track)= 0.0\n",
            "K= 35  ,NDCG(Track)= 0.0\n",
            "=====================================================\n",
            "K= 50  ,RP(Artist)= 0.14615787981859402\n",
            "K= 50  ,RP(Track)= 0.0\n",
            "K= 50  ,NDCG(Track)= 0.0\n",
            "=====================================================\n"
          ]
        }
      ]
    },
    {
      "cell_type": "markdown",
      "metadata": {
        "id": "f_JG2J8b_ust"
      },
      "source": [
        "### Recommend Songs of only those Artists corresponding to Seed playlist"
      ]
    },
    {
      "cell_type": "code",
      "metadata": {
        "id": "TvYVtv8y_veu"
      },
      "source": [
        "def getMostPopularSongsForArtist(seedTracks, artist_name, n, tracks_to_choose_from=None):\n",
        "  if tracks_to_choose_from is None:\n",
        "    artist_songs = artist_tracks_dict[artist_name]\n",
        "    return random.sample(artist_songs, min(n, len(artist_songs)))\n",
        "  else:\n",
        "    track_list = tracks_to_choose_from[artist_name]\n",
        "    return random.sample(track_list, min(n, len(track_list)))\n",
        "  # artist_popular_songs = []\n",
        "  # for song in artist_songs:\n",
        "    # artist_popular_songs.append((track_frequency[song], song))\n",
        "    # artist_popular_songs.sort(reverse=True)\n",
        "    # filtered = [pair[1] for pair in artist_popular_songs if pair[1] not in seedTracks]\n",
        "  # return filtered[:n]\n",
        "\n"
      ],
      "execution_count": null,
      "outputs": []
    },
    {
      "cell_type": "code",
      "metadata": {
        "id": "aMsJ8wST_ygn"
      },
      "source": [
        "def recommendPopularSongsBasedOnArtists(seedTracks, artists, n, tracks_to_choose_from=None):\n",
        "  total_tracks = 0\n",
        "  for artist in artists:\n",
        "    total_tracks += artist_tracks_count_dict[artist]\n",
        "  results = []\n",
        "  for artist in artists:\n",
        "    count = int(math.ceil((n * artist_tracks_count_dict[artist]) / total_tracks))\n",
        "    results.extend(getMostPopularSongsForArtist(seedTracks, artist, count, tracks_to_choose_from))\n",
        "  return results[:n]"
      ],
      "execution_count": null,
      "outputs": []
    },
    {
      "cell_type": "code",
      "metadata": {
        "id": "URz2FX6T_3CH"
      },
      "source": [
        "def runPopularArtistTrackModel(topKgrid):\n",
        "  for topK in topKgrid:\n",
        "    tracks_r_precision = []\n",
        "    artists_r_precision = []\n",
        "    ndcg_tracks = []\n",
        "    for idx, row in validation_data.iterrows():\n",
        "      artists = getArtistsForTracks(row['tracks'])\n",
        "      res = recommendPopularSongsBasedOnArtists(row['tracks'], artists, topK, None)\n",
        "      artists_of_pred = getArtistsForTracks(res)\n",
        "      tracks_r_precision.append(R_precision(res, row['with_held_tracks']))\n",
        "      artists_r_precision.append(R_precision(artists_of_pred, row['with_held_artists']))\n",
        "      ndcg_tracks.append(NDCG(row['with_held_tracks'], res, topK))\n",
        "    print('K=',topK, ' ,RP(Artist)=',sum(artists_r_precision)/280)\n",
        "    print('K=',topK, ' ,RP(Track)=',sum(tracks_r_precision)/280)\n",
        "    print('K=',topK, ' ,NDCG(Track)=',sum(ndcg_tracks)/280)\n",
        "    print('=====================================================')"
      ],
      "execution_count": null,
      "outputs": []
    },
    {
      "cell_type": "code",
      "metadata": {
        "colab": {
          "base_uri": "https://localhost:8080/"
        },
        "id": "u5fpN2VFSHxk",
        "outputId": "1d93ca63-4001-4315-f261-28fc8a96f344"
      },
      "source": [
        "runPopularArtistTrackModel([10, 13, 15, 18, 20, 23, 25])"
      ],
      "execution_count": null,
      "outputs": [
        {
          "name": "stdout",
          "output_type": "stream",
          "text": [
            "K= 10  ,RP(Artist)= 0.20582766439909317\n",
            "K= 10  ,RP(Track)= 0.021904761904761896\n",
            "K= 10  ,NDCG(Track)= 0.060324276319645036\n",
            "=====================================================\n",
            "K= 13  ,RP(Artist)= 0.2688633786848073\n",
            "K= 13  ,RP(Track)= 0.03329365079365077\n",
            "K= 13  ,NDCG(Track)= 0.10126521894759051\n",
            "=====================================================\n",
            "K= 15  ,RP(Artist)= 0.3113704648526079\n",
            "K= 15  ,RP(Track)= 0.04757936507936503\n",
            "K= 15  ,NDCG(Track)= 0.1276837263700039\n",
            "=====================================================\n",
            "K= 18  ,RP(Artist)= 0.36096513605442165\n",
            "K= 18  ,RP(Track)= 0.056865079365079306\n",
            "K= 18  ,NDCG(Track)= 0.12883176559290083\n",
            "=====================================================\n",
            "K= 20  ,RP(Artist)= 0.3876218820861679\n",
            "K= 20  ,RP(Track)= 0.059761904761904724\n",
            "K= 20  ,NDCG(Track)= 0.1235657500727709\n",
            "=====================================================\n",
            "K= 23  ,RP(Artist)= 0.43256660997732416\n",
            "K= 23  ,RP(Track)= 0.07738095238095247\n",
            "K= 23  ,NDCG(Track)= 0.15223034029362742\n",
            "=====================================================\n",
            "K= 25  ,RP(Artist)= 0.45637188208616764\n",
            "K= 25  ,RP(Track)= 0.08130952380952385\n",
            "K= 25  ,NDCG(Track)= 0.15593943396180382\n",
            "=====================================================\n"
          ]
        }
      ]
    },
    {
      "cell_type": "markdown",
      "metadata": {
        "id": "aAYtlg3LVzPO"
      },
      "source": [
        "Higher artist R@K shows users have favourite artists and its common to have majority of playlist composed of their tracks."
      ]
    },
    {
      "cell_type": "code",
      "metadata": {
        "colab": {
          "base_uri": "https://localhost:8080/"
        },
        "id": "OI045V_zW0EI",
        "outputId": "1b1580b4-a1f2-4b82-e3d6-9464fa41a229"
      },
      "source": [
        "runPopularArtistTrackModel([10, 20, 30, 40, 50, 60, 70])"
      ],
      "execution_count": null,
      "outputs": [
        {
          "name": "stdout",
          "output_type": "stream",
          "text": [
            "K= 10  ,RP(Artist)= 0.20582766439909317\n",
            "K= 10  ,RP(Track)= 0.026547619047619035\n",
            "K= 10  ,NDCG(Track)= 0.08894812439814553\n",
            "=====================================================\n",
            "K= 20  ,RP(Artist)= 0.3876218820861679\n",
            "K= 20  ,RP(Track)= 0.06376984126984127\n",
            "K= 20  ,NDCG(Track)= 0.14513118094492053\n",
            "=====================================================\n",
            "K= 30  ,RP(Artist)= 0.5199503968253968\n",
            "K= 30  ,RP(Track)= 0.10285714285714292\n",
            "K= 30  ,NDCG(Track)= 0.17523031371260128\n",
            "=====================================================\n",
            "K= 40  ,RP(Artist)= 0.5976204648526077\n",
            "K= 40  ,RP(Track)= 0.12888888888888908\n",
            "K= 40  ,NDCG(Track)= 0.20068097021574302\n",
            "=====================================================\n",
            "K= 50  ,RP(Artist)= 0.6688619614512475\n",
            "K= 50  ,RP(Track)= 0.15654761904761924\n",
            "K= 50  ,NDCG(Track)= 0.2074167065632705\n",
            "=====================================================\n",
            "K= 60  ,RP(Artist)= 0.7053472222222231\n",
            "K= 60  ,RP(Track)= 0.1983333333333336\n",
            "K= 60  ,NDCG(Track)= 0.22943842732628913\n",
            "=====================================================\n",
            "K= 70  ,RP(Artist)= 0.7326218820861684\n",
            "K= 70  ,RP(Track)= 0.21670634920634962\n",
            "K= 70  ,NDCG(Track)= 0.23867005459136342\n",
            "=====================================================\n"
          ]
        }
      ]
    },
    {
      "cell_type": "markdown",
      "metadata": {
        "id": "Uf0BxwS0_90L"
      },
      "source": [
        "### Cosine Similarity of Playlist Title Word Embeddings - Find the similarity between query Playlist title and Trainig Playlist Titles(acting as genere)"
      ]
    },
    {
      "cell_type": "code",
      "metadata": {
        "id": "6JMkTAAc_8ke"
      },
      "source": [
        "import zipfile\n",
        "with zipfile.ZipFile('/content/drive/MyDrive/glove_emb.pb (1).zip', 'r') as zip_ref:\n",
        "    zip_ref.extractall('/content')"
      ],
      "execution_count": null,
      "outputs": []
    },
    {
      "cell_type": "code",
      "metadata": {
        "id": "-ptFAsreAAJD"
      },
      "source": [
        "words_embeddings_dict = defaultdict()\n",
        "with open('glove_emb.pb', 'rb') as handle:\n",
        "    words_embeddings_dict = pkl.load(handle)"
      ],
      "execution_count": null,
      "outputs": []
    },
    {
      "cell_type": "code",
      "metadata": {
        "colab": {
          "base_uri": "https://localhost:8080/"
        },
        "id": "4GwLPoD_ADvx",
        "outputId": "33706a27-d437-4532-d21f-adc55072d3b5"
      },
      "source": [
        "import nltk\n",
        "from nltk.corpus import stopwords\n",
        "nltk.download('stopwords')\n",
        "playlist_names = playlists_data['name']\n",
        "stop_words = set(stopwords.words('english'))"
      ],
      "execution_count": null,
      "outputs": [
        {
          "name": "stdout",
          "output_type": "stream",
          "text": [
            "[nltk_data] Downloading package stopwords to /root/nltk_data...\n",
            "[nltk_data]   Unzipping corpora/stopwords.zip.\n"
          ]
        }
      ]
    },
    {
      "cell_type": "code",
      "metadata": {
        "id": "5tldUmGVAJxu"
      },
      "source": [
        "def getPlaylistTitleEmbedding(name):\n",
        "  # print(name)\n",
        "  embeddies = np.zeros((1,300), dtype=float)\n",
        "  for w in name:\n",
        "    # print(w)\n",
        "    if w.lower() in words_embeddings_dict:\n",
        "      embeddies += np.array(words_embeddings_dict[w.lower()]).reshape((1,300))\n",
        "  return embeddies"
      ],
      "execution_count": null,
      "outputs": []
    },
    {
      "cell_type": "code",
      "metadata": {
        "id": "2HzDz9zNgW2F"
      },
      "source": [
        "def tracksInPlaylist(p):\n",
        "  # print(p, len(playlists_data.loc[playlists_data['name']==p,'tracks']))\n",
        "  return list(playlists_data.loc[playlists_data['name']==p,'tracks'].iloc[0])"
      ],
      "execution_count": null,
      "outputs": []
    },
    {
      "cell_type": "code",
      "metadata": {
        "id": "g2WJYZ3QALj9"
      },
      "source": [
        "def getMostSimilarPlaylist(query_playlist):\n",
        "  sim_matrix = []\n",
        "  # best_match = ''\n",
        "  name1 = [w.lower() for w in query_playlist.strip().split(' ') if not w.lower() in stop_words]\n",
        "  embedding1 = getPlaylistTitleEmbedding(name1)\n",
        "  for n2 in playlist_names.to_list():\n",
        "    # print(n2)\n",
        "    name2 = [w.lower() for w in n2.strip().split(' ') if not w.lower() in stop_words]\n",
        "    embedding2 = getPlaylistTitleEmbedding(name2)\n",
        "    sim = 1 - distance.cosine(embedding2, embedding1)\n",
        "    sim_matrix.append((sim, n2))\n",
        "    # print(sim, query_playlist, n2)\n",
        "    # if(sim > max_sim):\n",
        "      # max_sim = sim\n",
        "      # best_match = n2\n",
        "  return sim_matrix"
      ],
      "execution_count": null,
      "outputs": []
    },
    {
      "cell_type": "code",
      "metadata": {
        "id": "KdyQ1884bEaa"
      },
      "source": [
        "def getRandomTopNFromBestMatchTitles(query_playlist, n, playlist_cnt):\n",
        "  sim_matrix = getMostSimilarPlaylist(query_playlist)\n",
        "  # print(sim_matrix)\n",
        "  sim_matrix = [pair for pair in sim_matrix if not np.isnan(pair[0])]\n",
        "  sim_matrix.sort(reverse=True)\n",
        "  # print(sim_matrix)\n",
        "  total_sim = sum([pair[0] for pair in sim_matrix[:playlist_cnt]])\n",
        "  result = []\n",
        "  for p in sim_matrix[:playlist_cnt]:\n",
        "    tracks = tracksInPlaylist(p[1])\n",
        "    weight = int(math.ceil(n * p[0] / total_sim))\n",
        "    result.extend(random.sample(tracks, min(weight, len(tracks))))\n",
        "  return result[:n]\n"
      ],
      "execution_count": 44,
      "outputs": []
    },
    {
      "cell_type": "code",
      "metadata": {
        "id": "e78QH982aYNN"
      },
      "source": [
        "def runWordEmbeddingsModel(topKgrid, playlist_cnt):\n",
        "  for topK in topKgrid:\n",
        "    tracks_r_precision = []\n",
        "    artists_r_precision = []\n",
        "    ndcg_tracks = []\n",
        "    for idx, row in validation_data.iterrows():\n",
        "      res = getRandomTopNFromBestMatchTitles(row['name'], topK, playlist_cnt)\n",
        "      artists_of_pred = getArtistsForTracks(res)\n",
        "      tracks_r_precision.append(R_precision(res, row['with_held_tracks']))\n",
        "      artists_r_precision.append(R_precision(artists_of_pred, row['with_held_artists']))\n",
        "      ndcg_tracks.append(NDCG(row['with_held_tracks'], res, topK))\n",
        "    print('K=',topK, ' ,RP(Artist)=',sum(artists_r_precision)/280)\n",
        "    print('K=',topK, ' ,RP(Track)=',sum(tracks_r_precision)/280)\n",
        "    # print(ndcg_tracks)\n",
        "    print('K=',topK, ' ,NDCG(Track)=',sum(ndcg_tracks)/280)\n",
        "    print('=====================================================')"
      ],
      "execution_count": 49,
      "outputs": []
    },
    {
      "cell_type": "code",
      "metadata": {
        "colab": {
          "base_uri": "https://localhost:8080/",
          "height": 0
        },
        "id": "Awtfqbo1Mj2r",
        "outputId": "6d7a5b68-acd8-48fc-967e-11a014bbc7b0"
      },
      "source": [
        "warnings.filterwarnings('ignore')\n",
        "runWordEmbeddingsModel([10])"
      ],
      "execution_count": 46,
      "outputs": [
        {
          "output_type": "stream",
          "name": "stdout",
          "text": [
            "K= 10  ,RP(Artist)= 0.04767290249433103\n",
            "K= 10  ,RP(Track)= 0.01579365079365079\n",
            "K= 10  ,NDCG(Track)= 0.058864235131331655\n",
            "=====================================================\n"
          ]
        }
      ]
    },
    {
      "cell_type": "code",
      "metadata": {
        "id": "0Ol6ABpWf-CB",
        "colab": {
          "base_uri": "https://localhost:8080/",
          "height": 0
        },
        "outputId": "9d35d6d0-f0e3-447e-dfe2-cebd4ad853db"
      },
      "source": [
        "runWordEmbeddingsModel([10, 20, 30, 40, 50, 60, 70], 1)"
      ],
      "execution_count": 47,
      "outputs": [
        {
          "output_type": "stream",
          "name": "stdout",
          "text": [
            "K= 10  ,RP(Artist)= 0.04443452380952378\n",
            "K= 10  ,RP(Track)= 0.016150793650793648\n",
            "K= 10  ,NDCG(Track)= 0.04749126542889242\n",
            "=====================================================\n",
            "K= 20  ,RP(Artist)= 0.07866780045351472\n",
            "K= 20  ,RP(Track)= 0.035873015873015855\n",
            "K= 20  ,NDCG(Track)= 0.07523550368207549\n",
            "=====================================================\n",
            "K= 30  ,RP(Artist)= 0.08769416099773243\n",
            "K= 30  ,RP(Track)= 0.04246031746031743\n",
            "K= 30  ,NDCG(Track)= 0.07338711085350866\n",
            "=====================================================\n",
            "K= 40  ,RP(Artist)= 0.09688492063492064\n",
            "K= 40  ,RP(Track)= 0.047460317460317425\n",
            "K= 40  ,NDCG(Track)= 0.07576976063802042\n",
            "=====================================================\n",
            "K= 50  ,RP(Artist)= 0.09986536281179138\n",
            "K= 50  ,RP(Track)= 0.049603174603174566\n",
            "K= 50  ,NDCG(Track)= 0.07773292022646042\n",
            "=====================================================\n",
            "K= 60  ,RP(Artist)= 0.10112953514739229\n",
            "K= 60  ,RP(Track)= 0.049603174603174566\n",
            "K= 60  ,NDCG(Track)= 0.07546367620933282\n",
            "=====================================================\n",
            "K= 70  ,RP(Artist)= 0.10112953514739229\n",
            "K= 70  ,RP(Track)= 0.049603174603174566\n",
            "K= 70  ,NDCG(Track)= 0.07813899661041797\n",
            "=====================================================\n"
          ]
        }
      ]
    },
    {
      "cell_type": "markdown",
      "metadata": {
        "id": "ObT8gwDhqTb8"
      },
      "source": [
        "## with top 4 matches"
      ]
    },
    {
      "cell_type": "code",
      "metadata": {
        "id": "AiKZSWXoqV6b",
        "colab": {
          "base_uri": "https://localhost:8080/",
          "height": 0
        },
        "outputId": "538f066c-cfd6-46eb-fa16-a027098074ed"
      },
      "source": [
        "runWordEmbeddingsModel([10, 20, 30, 40, 50, 60, 70, 100], 4)"
      ],
      "execution_count": 50,
      "outputs": [
        {
          "output_type": "stream",
          "name": "stdout",
          "text": [
            "K= 10  ,RP(Artist)= 0.03841695011337867\n",
            "K= 10  ,RP(Track)= 0.009761904761904765\n",
            "K= 10  ,NDCG(Track)= 0.03897727857504507\n",
            "=====================================================\n",
            "K= 20  ,RP(Artist)= 0.06795918367346934\n",
            "K= 20  ,RP(Track)= 0.022738095238095227\n",
            "K= 20  ,NDCG(Track)= 0.051176635791984955\n",
            "=====================================================\n",
            "K= 30  ,RP(Artist)= 0.09312216553287982\n",
            "K= 30  ,RP(Track)= 0.02841269841269839\n",
            "K= 30  ,NDCG(Track)= 0.06499735484896615\n",
            "=====================================================\n",
            "K= 40  ,RP(Artist)= 0.10375425170068023\n",
            "K= 40  ,RP(Track)= 0.03670634920634919\n",
            "K= 40  ,NDCG(Track)= 0.056207923509556314\n",
            "=====================================================\n",
            "K= 50  ,RP(Artist)= 0.1197619047619048\n",
            "K= 50  ,RP(Track)= 0.044999999999999964\n",
            "K= 50  ,NDCG(Track)= 0.06902460481169037\n",
            "=====================================================\n",
            "K= 60  ,RP(Artist)= 0.12563066893424044\n",
            "K= 60  ,RP(Track)= 0.046388888888888855\n",
            "K= 60  ,NDCG(Track)= 0.07121741319691804\n",
            "=====================================================\n",
            "K= 70  ,RP(Artist)= 0.14307539682539697\n",
            "K= 70  ,RP(Track)= 0.05432539682539678\n",
            "K= 70  ,NDCG(Track)= 0.06877270708189817\n",
            "=====================================================\n",
            "K= 100  ,RP(Artist)= 0.16026077097505678\n",
            "K= 100  ,RP(Track)= 0.06543650793650795\n",
            "K= 100  ,NDCG(Track)= 0.07950037360006751\n",
            "=====================================================\n"
          ]
        }
      ]
    },
    {
      "cell_type": "markdown",
      "metadata": {
        "id": "pXVIPzsAuEk0"
      },
      "source": [
        "## with top 3 matches"
      ]
    },
    {
      "cell_type": "code",
      "metadata": {
        "id": "P5lB3oLrqbbw",
        "colab": {
          "base_uri": "https://localhost:8080/",
          "height": 0
        },
        "outputId": "6a176ced-7d43-4841-c086-2ad88b26bd69"
      },
      "source": [
        "runWordEmbeddingsModel([10, 20, 30, 40, 50, 60, 70, 100], 3)"
      ],
      "execution_count": 51,
      "outputs": [
        {
          "output_type": "stream",
          "name": "stdout",
          "text": [
            "K= 10  ,RP(Artist)= 0.043782596371882046\n",
            "K= 10  ,RP(Track)= 0.015436507936507936\n",
            "K= 10  ,NDCG(Track)= 0.05305519551256277\n",
            "=====================================================\n",
            "K= 20  ,RP(Artist)= 0.07321286848072561\n",
            "K= 20  ,RP(Track)= 0.020555555555555553\n",
            "K= 20  ,NDCG(Track)= 0.04636974591746453\n",
            "=====================================================\n",
            "K= 30  ,RP(Artist)= 0.08793792517006804\n",
            "K= 30  ,RP(Track)= 0.034166666666666644\n",
            "K= 30  ,NDCG(Track)= 0.07378663211829434\n",
            "=====================================================\n",
            "K= 40  ,RP(Artist)= 0.10157171201814055\n",
            "K= 40  ,RP(Track)= 0.04138888888888886\n",
            "K= 40  ,NDCG(Track)= 0.06919859703932449\n",
            "=====================================================\n",
            "K= 50  ,RP(Artist)= 0.1174263038548753\n",
            "K= 50  ,RP(Track)= 0.04571428571428568\n",
            "K= 50  ,NDCG(Track)= 0.06713448114243037\n",
            "=====================================================\n",
            "K= 60  ,RP(Artist)= 0.1256604308390023\n",
            "K= 60  ,RP(Track)= 0.04785714285714282\n",
            "K= 60  ,NDCG(Track)= 0.06810164735541765\n",
            "=====================================================\n",
            "K= 70  ,RP(Artist)= 0.13467120181405903\n",
            "K= 70  ,RP(Track)= 0.053928571428571374\n",
            "K= 70  ,NDCG(Track)= 0.07881179922459765\n",
            "=====================================================\n",
            "K= 100  ,RP(Artist)= 0.1494075963718822\n",
            "K= 100  ,RP(Track)= 0.06119047619047616\n",
            "K= 100  ,NDCG(Track)= 0.08192594730377994\n",
            "=====================================================\n"
          ]
        }
      ]
    },
    {
      "cell_type": "markdown",
      "metadata": {
        "id": "nbydQT1ZuLol"
      },
      "source": [
        "## with top 2 matches"
      ]
    },
    {
      "cell_type": "code",
      "metadata": {
        "id": "lJBOTyTCuNF7",
        "colab": {
          "base_uri": "https://localhost:8080/",
          "height": 0
        },
        "outputId": "66b4c0e7-eb91-4532-9e58-5ba149ac58d6"
      },
      "source": [
        "runWordEmbeddingsModel([10, 20, 30, 40, 50, 60, 70, 100], 2)"
      ],
      "execution_count": 52,
      "outputs": [
        {
          "output_type": "stream",
          "name": "stdout",
          "text": [
            "K= 10  ,RP(Artist)= 0.043443877551020374\n",
            "K= 10  ,RP(Track)= 0.013293650793650795\n",
            "K= 10  ,NDCG(Track)= 0.03585348832977778\n",
            "=====================================================\n",
            "K= 20  ,RP(Artist)= 0.07197137188208615\n",
            "K= 20  ,RP(Track)= 0.02738095238095237\n",
            "K= 20  ,NDCG(Track)= 0.05819961734369706\n",
            "=====================================================\n",
            "K= 30  ,RP(Artist)= 0.09396258503401358\n",
            "K= 30  ,RP(Track)= 0.035277777777777755\n",
            "K= 30  ,NDCG(Track)= 0.06633111859675886\n",
            "=====================================================\n",
            "K= 40  ,RP(Artist)= 0.10441326530612242\n",
            "K= 40  ,RP(Track)= 0.04420634920634917\n",
            "K= 40  ,NDCG(Track)= 0.06861075877098596\n",
            "=====================================================\n",
            "K= 50  ,RP(Artist)= 0.10850481859410425\n",
            "K= 50  ,RP(Track)= 0.04753968253968251\n",
            "K= 50  ,NDCG(Track)= 0.07564460980086281\n",
            "=====================================================\n",
            "K= 60  ,RP(Artist)= 0.1221428571428572\n",
            "K= 60  ,RP(Track)= 0.05361111111111106\n",
            "K= 60  ,NDCG(Track)= 0.07001987201286032\n",
            "=====================================================\n",
            "K= 70  ,RP(Artist)= 0.13125850340136064\n",
            "K= 70  ,RP(Track)= 0.055753968253968195\n",
            "K= 70  ,NDCG(Track)= 0.07827652638769236\n",
            "=====================================================\n",
            "K= 100  ,RP(Artist)= 0.13634212018140598\n",
            "K= 100  ,RP(Track)= 0.05896825396825393\n",
            "K= 100  ,NDCG(Track)= 0.07488448449308312\n",
            "=====================================================\n"
          ]
        }
      ]
    },
    {
      "cell_type": "code",
      "metadata": {
        "id": "LqC85MS_xQ23",
        "colab": {
          "base_uri": "https://localhost:8080/",
          "height": 0
        },
        "outputId": "db8518a8-85c5-4c1f-9366-f5483f90225d"
      },
      "source": [
        "runWordEmbeddingsModel([10, 20, 30, 40, 50, 60, 70, 100], 10)"
      ],
      "execution_count": 53,
      "outputs": [
        {
          "output_type": "stream",
          "name": "stdout",
          "text": [
            "K= 10  ,RP(Artist)= 0.0381391723356009\n",
            "K= 10  ,RP(Track)= 0.00642857142857143\n",
            "K= 10  ,NDCG(Track)= 0.03153651242888419\n",
            "=====================================================\n",
            "K= 20  ,RP(Artist)= 0.0657738095238095\n",
            "K= 20  ,RP(Track)= 0.016230158730158727\n",
            "K= 20  ,NDCG(Track)= 0.042408790842219914\n",
            "=====================================================\n",
            "K= 30  ,RP(Artist)= 0.0870379818594104\n",
            "K= 30  ,RP(Track)= 0.023253968253968253\n",
            "K= 30  ,NDCG(Track)= 0.047655668496997476\n",
            "=====================================================\n",
            "K= 40  ,RP(Artist)= 0.11308390022675736\n",
            "K= 40  ,RP(Track)= 0.030952380952380926\n",
            "K= 40  ,NDCG(Track)= 0.06573097700932008\n",
            "=====================================================\n",
            "K= 50  ,RP(Artist)= 0.13639314058956922\n",
            "K= 50  ,RP(Track)= 0.037103174603174575\n",
            "K= 50  ,NDCG(Track)= 0.07099436626139322\n",
            "=====================================================\n",
            "K= 60  ,RP(Artist)= 0.1411323696145126\n",
            "K= 60  ,RP(Track)= 0.045238095238095195\n",
            "K= 60  ,NDCG(Track)= 0.08523759253985323\n",
            "=====================================================\n",
            "K= 70  ,RP(Artist)= 0.14659297052154202\n",
            "K= 70  ,RP(Track)= 0.05059523809523804\n",
            "K= 70  ,NDCG(Track)= 0.08352049241031158\n",
            "=====================================================\n",
            "K= 100  ,RP(Artist)= 0.179029195011338\n",
            "K= 100  ,RP(Track)= 0.06539682539682541\n",
            "K= 100  ,NDCG(Track)= 0.08470116733891354\n",
            "=====================================================\n"
          ]
        }
      ]
    },
    {
      "cell_type": "markdown",
      "metadata": {
        "id": "6GwgLIdexEh0"
      },
      "source": [
        "##Combine Word Embeddings with Artist popularity"
      ]
    },
    {
      "cell_type": "code",
      "metadata": {
        "id": "0PBVVP3j0ZJu"
      },
      "source": [
        "def getTrackDictForArtistWithinPlayists(sim_matrix):\n",
        "  all_tracks= []\n",
        "  for p in sim_matrix:\n",
        "    all_tracks.extend(tracksInPlaylist(p[1]))\n",
        "  artist_track_dict = defaultdict(list)\n",
        "  for track in all_tracks:\n",
        "    artist_track_dict[track_artist_mapping[track]].append(track)\n",
        "  return artist_track_dict"
      ],
      "execution_count": 54,
      "outputs": []
    },
    {
      "cell_type": "code",
      "metadata": {
        "id": "-_zQYkedvq2M"
      },
      "source": [
        "def runPopularArtistPlusWordEmbeddingModel(topKgrid):\n",
        "  for topK in topKgrid:\n",
        "    tracks_r_precision = []\n",
        "    artists_r_precision = []\n",
        "    ndcg_tracks = []\n",
        "    for idx, row in validation_data.iterrows():\n",
        "      sim_matrix = getMostSimilarPlaylist(row['name'])\n",
        "      sim_matrix = [pair for pair in sim_matrix if not np.isnan(pair[0])]\n",
        "      sim_matrix.sort(reverse=True)\n",
        "      tracks_to_choose_from = getTrackDictForArtistWithinPlayists(sim_matrix[:20])\n",
        "      res = recommendPopularSongsBasedOnArtists(row['tracks'], list(tracks_to_choose_from.keys()), topK, tracks_to_choose_from)\n",
        "      artists_of_pred = getArtistsForTracks(res)\n",
        "      tracks_r_precision.append(R_precision(res, row['with_held_tracks']))\n",
        "      artists_r_precision.append(R_precision(artists_of_pred, row['with_held_artists']))\n",
        "      ndcg_tracks.append(NDCG(row['with_held_tracks'], res, topK))\n",
        "    print('K=',topK, ' ,RP(Artist)=',sum(artists_r_precision)/280)\n",
        "    print('K=',topK, ' ,RP(Track)=',sum(tracks_r_precision)/280)\n",
        "    print('K=',topK, ' ,NDCG(Track)=',sum(ndcg_tracks)/280)\n",
        "    print('=====================================================')"
      ],
      "execution_count": 55,
      "outputs": []
    },
    {
      "cell_type": "code",
      "metadata": {
        "id": "1XEADd-E2dxM",
        "colab": {
          "base_uri": "https://localhost:8080/",
          "height": 0
        },
        "outputId": "52df06a2-43a4-45b9-ccb5-53204368b3ba"
      },
      "source": [
        "runPopularArtistPlusWordEmbeddingModel([10, 20, 30, 40, 50, 60, 70, 100])"
      ],
      "execution_count": 56,
      "outputs": [
        {
          "output_type": "stream",
          "name": "stdout",
          "text": [
            "K= 10  ,RP(Artist)= 0.06216128117913829\n",
            "K= 10  ,RP(Track)= 0.01301587301587302\n",
            "K= 10  ,NDCG(Track)= 0.048315354148027116\n",
            "=====================================================\n",
            "K= 20  ,RP(Artist)= 0.09726899092970523\n",
            "K= 20  ,RP(Track)= 0.025198412698412685\n",
            "K= 20  ,NDCG(Track)= 0.058512025778202456\n",
            "=====================================================\n",
            "K= 30  ,RP(Artist)= 0.12450538548752842\n",
            "K= 30  ,RP(Track)= 0.029087301587301568\n",
            "K= 30  ,NDCG(Track)= 0.06067194781868334\n",
            "=====================================================\n",
            "K= 40  ,RP(Artist)= 0.14595096371882102\n",
            "K= 40  ,RP(Track)= 0.03734126984126981\n",
            "K= 40  ,NDCG(Track)= 0.07399425398276945\n",
            "=====================================================\n",
            "K= 50  ,RP(Artist)= 0.16419217687074844\n",
            "K= 50  ,RP(Track)= 0.04345238095238091\n",
            "K= 50  ,NDCG(Track)= 0.07631631634538912\n",
            "=====================================================\n",
            "K= 60  ,RP(Artist)= 0.18302295918367362\n",
            "K= 60  ,RP(Track)= 0.04638888888888884\n",
            "K= 60  ,NDCG(Track)= 0.07543499597435674\n",
            "=====================================================\n",
            "K= 70  ,RP(Artist)= 0.19517006802721104\n",
            "K= 70  ,RP(Track)= 0.048809523809523754\n",
            "K= 70  ,NDCG(Track)= 0.07278133910441542\n",
            "=====================================================\n",
            "K= 100  ,RP(Artist)= 0.23253259637188245\n",
            "K= 100  ,RP(Track)= 0.06246031746031743\n",
            "K= 100  ,NDCG(Track)= 0.08485086070108266\n",
            "=====================================================\n"
          ]
        }
      ]
    },
    {
      "cell_type": "markdown",
      "metadata": {
        "id": "iaypsjXX4aJJ"
      },
      "source": [
        "##With 20 similar playlists"
      ]
    },
    {
      "cell_type": "code",
      "metadata": {
        "id": "xZN_fAzT4Y6O"
      },
      "source": [
        "runPopularArtistPlusWordEmbeddingModel([10, 20, 30, 40, 50, 60, 70])"
      ],
      "execution_count": null,
      "outputs": []
    },
    {
      "cell_type": "markdown",
      "metadata": {
        "id": "ROSdeSLH8PqP"
      },
      "source": [
        "Word embeddings are not giving ggod results not even with same artists as of seed list. Which means not all songs are related to the title of the playlist. The songs are random and do not describe the overall genere of songs. "
      ]
    },
    {
      "cell_type": "code",
      "metadata": {
        "id": "EUPAdgDy8qfA"
      },
      "source": [
        ""
      ],
      "execution_count": null,
      "outputs": []
    }
  ]
}